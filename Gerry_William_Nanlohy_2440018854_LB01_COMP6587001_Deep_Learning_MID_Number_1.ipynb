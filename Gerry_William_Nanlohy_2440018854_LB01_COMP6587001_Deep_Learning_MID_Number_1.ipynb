{
  "nbformat": 4,
  "nbformat_minor": 0,
  "metadata": {
    "colab": {
      "provenance": []
    },
    "kernelspec": {
      "name": "python3",
      "display_name": "Python 3"
    },
    "language_info": {
      "name": "python"
    }
  },
  "cells": [
    {
      "cell_type": "markdown",
      "source": [
        "# Gerry_William_Nanlohy_2440018854_LB01_COMP6587001 - Deep Learning_MID Number 1"
      ],
      "metadata": {
        "id": "TxEsRYHZ6kPI"
      }
    },
    {
      "cell_type": "markdown",
      "source": [
        "1. Anatahita merupakan salah satu data analyst di sebuah perusahaan kartu kredit terbesar di Indonesia. Dia diminta untuk membuat sebuah aplikasi yang membantu perusahaan untuk menentukan apakah sebuah transaksi yang dilakukan seseorang adalah fraud atau tidak fraud. Tim data memberikan dataset yang dapat di download pada https://bit.ly/UTSDeepLearning, data tersebut membuang beberapa informasi penting seperti nama pengguna dan lain - lainnya. Buatlah arsitektur Back Propagation Neural Network (BPNN). Berikut adalah ketentuan yang perlu diperhatikan dalam pembuatan arsitektur BPNN."
      ],
      "metadata": {
        "id": "SBKbZal46_lx"
      }
    },
    {
      "cell_type": "markdown",
      "source": [
        "***Import the required libraries***"
      ],
      "metadata": {
        "id": "XwZvvPcNOdMA"
      }
    },
    {
      "cell_type": "code",
      "source": [
        "import pandas as pd\n",
        "import numpy as np\n",
        "from scipy.stats import mode\n",
        "from sklearn.model_selection import train_test_split\n",
        "import matplotlib.pyplot as plt\n",
        "import seaborn as sns\n",
        "from sklearn import preprocessing\n",
        "from sklearn.preprocessing import MinMaxScaler"
      ],
      "metadata": {
        "id": "4rDyrLqCVA87"
      },
      "execution_count": null,
      "outputs": []
    },
    {
      "cell_type": "markdown",
      "source": [
        "***Reading dataset in the form of excel file with read_csv function from pandas library***"
      ],
      "metadata": {
        "id": "H1DLtMEnOmEH"
      }
    },
    {
      "cell_type": "code",
      "source": [
        "dataset = pd.read_csv('/content/creditcard.csv')"
      ],
      "metadata": {
        "id": "3lQ5yWXHXgY-"
      },
      "execution_count": null,
      "outputs": []
    },
    {
      "cell_type": "markdown",
      "source": [
        "a. Dataset yang diberikan memiliki beberapa problem, lakukan \n",
        "praproses data untuk menyelesaikan problem dari data tersebut. Sebutkan problem apa \n",
        "saja yang kalian temukan dari data yang diberikan, berikan penjelasan mengenai \n",
        "pendekatan apa yang kalian gunakan dan kenapa memilih pendekatan yang dipilih? "
      ],
      "metadata": {
        "id": "g7BatZZF7ITh"
      }
    },
    {
      "cell_type": "markdown",
      "source": [
        "***Show the top 5 data to ensure data can be displayed and run properly using head function***"
      ],
      "metadata": {
        "id": "_S2vI5GcPO7T"
      }
    },
    {
      "cell_type": "code",
      "source": [
        "dataset.head()"
      ],
      "metadata": {
        "colab": {
          "base_uri": "https://localhost:8080/",
          "height": 270
        },
        "id": "IFYZ5YmrdSIV",
        "outputId": "9425b515-780d-455d-b381-3f745f1683b0"
      },
      "execution_count": null,
      "outputs": [
        {
          "output_type": "execute_result",
          "data": {
            "text/plain": [
              "         V1        V2        V3        V4        V5        V6        V7  \\\n",
              "0 -1.359807 -0.072781  2.536347  1.378155 -0.338321  0.462388  0.239599   \n",
              "1  1.191857  0.266151  0.166480  0.448154  0.060018 -0.082361 -0.078803   \n",
              "2 -1.358354 -1.340163  1.773209  0.379780 -0.503198  1.800499  0.791461   \n",
              "3 -0.966272 -0.185226  1.792993 -0.863291 -0.010309  1.247203  0.237609   \n",
              "4       NaN  0.877737  1.548718  0.403034 -0.407193  0.095921  0.592941   \n",
              "\n",
              "         V8        V9       V10  Class  \n",
              "0  0.098698  0.363787  0.090794    0.0  \n",
              "1  0.085102 -0.255425 -0.166974    0.0  \n",
              "2  0.247676 -1.514654  0.207643    0.0  \n",
              "3  0.377436 -1.387024 -0.054952    0.0  \n",
              "4 -0.270533  0.817739  0.753074    0.0  "
            ],
            "text/html": [
              "\n",
              "  <div id=\"df-0b7d2806-bd91-489f-99ef-be0bc9a10d10\">\n",
              "    <div class=\"colab-df-container\">\n",
              "      <div>\n",
              "<style scoped>\n",
              "    .dataframe tbody tr th:only-of-type {\n",
              "        vertical-align: middle;\n",
              "    }\n",
              "\n",
              "    .dataframe tbody tr th {\n",
              "        vertical-align: top;\n",
              "    }\n",
              "\n",
              "    .dataframe thead th {\n",
              "        text-align: right;\n",
              "    }\n",
              "</style>\n",
              "<table border=\"1\" class=\"dataframe\">\n",
              "  <thead>\n",
              "    <tr style=\"text-align: right;\">\n",
              "      <th></th>\n",
              "      <th>V1</th>\n",
              "      <th>V2</th>\n",
              "      <th>V3</th>\n",
              "      <th>V4</th>\n",
              "      <th>V5</th>\n",
              "      <th>V6</th>\n",
              "      <th>V7</th>\n",
              "      <th>V8</th>\n",
              "      <th>V9</th>\n",
              "      <th>V10</th>\n",
              "      <th>Class</th>\n",
              "    </tr>\n",
              "  </thead>\n",
              "  <tbody>\n",
              "    <tr>\n",
              "      <th>0</th>\n",
              "      <td>-1.359807</td>\n",
              "      <td>-0.072781</td>\n",
              "      <td>2.536347</td>\n",
              "      <td>1.378155</td>\n",
              "      <td>-0.338321</td>\n",
              "      <td>0.462388</td>\n",
              "      <td>0.239599</td>\n",
              "      <td>0.098698</td>\n",
              "      <td>0.363787</td>\n",
              "      <td>0.090794</td>\n",
              "      <td>0.0</td>\n",
              "    </tr>\n",
              "    <tr>\n",
              "      <th>1</th>\n",
              "      <td>1.191857</td>\n",
              "      <td>0.266151</td>\n",
              "      <td>0.166480</td>\n",
              "      <td>0.448154</td>\n",
              "      <td>0.060018</td>\n",
              "      <td>-0.082361</td>\n",
              "      <td>-0.078803</td>\n",
              "      <td>0.085102</td>\n",
              "      <td>-0.255425</td>\n",
              "      <td>-0.166974</td>\n",
              "      <td>0.0</td>\n",
              "    </tr>\n",
              "    <tr>\n",
              "      <th>2</th>\n",
              "      <td>-1.358354</td>\n",
              "      <td>-1.340163</td>\n",
              "      <td>1.773209</td>\n",
              "      <td>0.379780</td>\n",
              "      <td>-0.503198</td>\n",
              "      <td>1.800499</td>\n",
              "      <td>0.791461</td>\n",
              "      <td>0.247676</td>\n",
              "      <td>-1.514654</td>\n",
              "      <td>0.207643</td>\n",
              "      <td>0.0</td>\n",
              "    </tr>\n",
              "    <tr>\n",
              "      <th>3</th>\n",
              "      <td>-0.966272</td>\n",
              "      <td>-0.185226</td>\n",
              "      <td>1.792993</td>\n",
              "      <td>-0.863291</td>\n",
              "      <td>-0.010309</td>\n",
              "      <td>1.247203</td>\n",
              "      <td>0.237609</td>\n",
              "      <td>0.377436</td>\n",
              "      <td>-1.387024</td>\n",
              "      <td>-0.054952</td>\n",
              "      <td>0.0</td>\n",
              "    </tr>\n",
              "    <tr>\n",
              "      <th>4</th>\n",
              "      <td>NaN</td>\n",
              "      <td>0.877737</td>\n",
              "      <td>1.548718</td>\n",
              "      <td>0.403034</td>\n",
              "      <td>-0.407193</td>\n",
              "      <td>0.095921</td>\n",
              "      <td>0.592941</td>\n",
              "      <td>-0.270533</td>\n",
              "      <td>0.817739</td>\n",
              "      <td>0.753074</td>\n",
              "      <td>0.0</td>\n",
              "    </tr>\n",
              "  </tbody>\n",
              "</table>\n",
              "</div>\n",
              "      <button class=\"colab-df-convert\" onclick=\"convertToInteractive('df-0b7d2806-bd91-489f-99ef-be0bc9a10d10')\"\n",
              "              title=\"Convert this dataframe to an interactive table.\"\n",
              "              style=\"display:none;\">\n",
              "        \n",
              "  <svg xmlns=\"http://www.w3.org/2000/svg\" height=\"24px\"viewBox=\"0 0 24 24\"\n",
              "       width=\"24px\">\n",
              "    <path d=\"M0 0h24v24H0V0z\" fill=\"none\"/>\n",
              "    <path d=\"M18.56 5.44l.94 2.06.94-2.06 2.06-.94-2.06-.94-.94-2.06-.94 2.06-2.06.94zm-11 1L8.5 8.5l.94-2.06 2.06-.94-2.06-.94L8.5 2.5l-.94 2.06-2.06.94zm10 10l.94 2.06.94-2.06 2.06-.94-2.06-.94-.94-2.06-.94 2.06-2.06.94z\"/><path d=\"M17.41 7.96l-1.37-1.37c-.4-.4-.92-.59-1.43-.59-.52 0-1.04.2-1.43.59L10.3 9.45l-7.72 7.72c-.78.78-.78 2.05 0 2.83L4 21.41c.39.39.9.59 1.41.59.51 0 1.02-.2 1.41-.59l7.78-7.78 2.81-2.81c.8-.78.8-2.07 0-2.86zM5.41 20L4 18.59l7.72-7.72 1.47 1.35L5.41 20z\"/>\n",
              "  </svg>\n",
              "      </button>\n",
              "      \n",
              "  <style>\n",
              "    .colab-df-container {\n",
              "      display:flex;\n",
              "      flex-wrap:wrap;\n",
              "      gap: 12px;\n",
              "    }\n",
              "\n",
              "    .colab-df-convert {\n",
              "      background-color: #E8F0FE;\n",
              "      border: none;\n",
              "      border-radius: 50%;\n",
              "      cursor: pointer;\n",
              "      display: none;\n",
              "      fill: #1967D2;\n",
              "      height: 32px;\n",
              "      padding: 0 0 0 0;\n",
              "      width: 32px;\n",
              "    }\n",
              "\n",
              "    .colab-df-convert:hover {\n",
              "      background-color: #E2EBFA;\n",
              "      box-shadow: 0px 1px 2px rgba(60, 64, 67, 0.3), 0px 1px 3px 1px rgba(60, 64, 67, 0.15);\n",
              "      fill: #174EA6;\n",
              "    }\n",
              "\n",
              "    [theme=dark] .colab-df-convert {\n",
              "      background-color: #3B4455;\n",
              "      fill: #D2E3FC;\n",
              "    }\n",
              "\n",
              "    [theme=dark] .colab-df-convert:hover {\n",
              "      background-color: #434B5C;\n",
              "      box-shadow: 0px 1px 3px 1px rgba(0, 0, 0, 0.15);\n",
              "      filter: drop-shadow(0px 1px 2px rgba(0, 0, 0, 0.3));\n",
              "      fill: #FFFFFF;\n",
              "    }\n",
              "  </style>\n",
              "\n",
              "      <script>\n",
              "        const buttonEl =\n",
              "          document.querySelector('#df-0b7d2806-bd91-489f-99ef-be0bc9a10d10 button.colab-df-convert');\n",
              "        buttonEl.style.display =\n",
              "          google.colab.kernel.accessAllowed ? 'block' : 'none';\n",
              "\n",
              "        async function convertToInteractive(key) {\n",
              "          const element = document.querySelector('#df-0b7d2806-bd91-489f-99ef-be0bc9a10d10');\n",
              "          const dataTable =\n",
              "            await google.colab.kernel.invokeFunction('convertToInteractive',\n",
              "                                                     [key], {});\n",
              "          if (!dataTable) return;\n",
              "\n",
              "          const docLinkHtml = 'Like what you see? Visit the ' +\n",
              "            '<a target=\"_blank\" href=https://colab.research.google.com/notebooks/data_table.ipynb>data table notebook</a>'\n",
              "            + ' to learn more about interactive tables.';\n",
              "          element.innerHTML = '';\n",
              "          dataTable['output_type'] = 'display_data';\n",
              "          await google.colab.output.renderOutput(dataTable, element);\n",
              "          const docLink = document.createElement('div');\n",
              "          docLink.innerHTML = docLinkHtml;\n",
              "          element.appendChild(docLink);\n",
              "        }\n",
              "      </script>\n",
              "    </div>\n",
              "  </div>\n",
              "  "
            ]
          },
          "metadata": {},
          "execution_count": 3
        }
      ]
    },
    {
      "cell_type": "markdown",
      "source": [
        "***Show the bottom 5 data to make sure the data can be displayed and run properly using tail function***"
      ],
      "metadata": {
        "id": "uiKNGFmaQJlb"
      }
    },
    {
      "cell_type": "code",
      "source": [
        "dataset.tail()"
      ],
      "metadata": {
        "colab": {
          "base_uri": "https://localhost:8080/",
          "height": 270
        },
        "id": "6iLekFUCdYZ6",
        "outputId": "10134776-c576-482e-d3b8-66f8e44bfcb4"
      },
      "execution_count": null,
      "outputs": [
        {
          "output_type": "execute_result",
          "data": {
            "text/plain": [
              "             V1        V2        V3        V4        V5        V6        V7  \\\n",
              "41369  1.341766  0.064070 -0.020255 -0.108298 -0.146895 -0.679384  0.041574   \n",
              "41370 -1.075491 -0.437308  1.452632 -1.890234 -0.147365 -1.050495  0.232710   \n",
              "41371 -6.465283 -8.156106  0.470071  1.373821  1.953312 -1.680574 -0.328556   \n",
              "41372 -1.117972  0.091144  1.975912  0.496904  0.998723  0.106063 -0.175904   \n",
              "41373  1.136674  0.212562       NaN       NaN       NaN       NaN       NaN   \n",
              "\n",
              "             V8        V9       V10  Class  \n",
              "41369 -0.186474  0.190224 -0.132543    0.0  \n",
              "41370 -0.063106  1.625540 -1.886182    0.0  \n",
              "41371  0.110676 -0.633314  0.658678    0.0  \n",
              "41372  0.411996 -0.951737 -0.198503    0.0  \n",
              "41373       NaN       NaN       NaN    NaN  "
            ],
            "text/html": [
              "\n",
              "  <div id=\"df-04692498-0910-4528-a7c9-7641e34be277\">\n",
              "    <div class=\"colab-df-container\">\n",
              "      <div>\n",
              "<style scoped>\n",
              "    .dataframe tbody tr th:only-of-type {\n",
              "        vertical-align: middle;\n",
              "    }\n",
              "\n",
              "    .dataframe tbody tr th {\n",
              "        vertical-align: top;\n",
              "    }\n",
              "\n",
              "    .dataframe thead th {\n",
              "        text-align: right;\n",
              "    }\n",
              "</style>\n",
              "<table border=\"1\" class=\"dataframe\">\n",
              "  <thead>\n",
              "    <tr style=\"text-align: right;\">\n",
              "      <th></th>\n",
              "      <th>V1</th>\n",
              "      <th>V2</th>\n",
              "      <th>V3</th>\n",
              "      <th>V4</th>\n",
              "      <th>V5</th>\n",
              "      <th>V6</th>\n",
              "      <th>V7</th>\n",
              "      <th>V8</th>\n",
              "      <th>V9</th>\n",
              "      <th>V10</th>\n",
              "      <th>Class</th>\n",
              "    </tr>\n",
              "  </thead>\n",
              "  <tbody>\n",
              "    <tr>\n",
              "      <th>41369</th>\n",
              "      <td>1.341766</td>\n",
              "      <td>0.064070</td>\n",
              "      <td>-0.020255</td>\n",
              "      <td>-0.108298</td>\n",
              "      <td>-0.146895</td>\n",
              "      <td>-0.679384</td>\n",
              "      <td>0.041574</td>\n",
              "      <td>-0.186474</td>\n",
              "      <td>0.190224</td>\n",
              "      <td>-0.132543</td>\n",
              "      <td>0.0</td>\n",
              "    </tr>\n",
              "    <tr>\n",
              "      <th>41370</th>\n",
              "      <td>-1.075491</td>\n",
              "      <td>-0.437308</td>\n",
              "      <td>1.452632</td>\n",
              "      <td>-1.890234</td>\n",
              "      <td>-0.147365</td>\n",
              "      <td>-1.050495</td>\n",
              "      <td>0.232710</td>\n",
              "      <td>-0.063106</td>\n",
              "      <td>1.625540</td>\n",
              "      <td>-1.886182</td>\n",
              "      <td>0.0</td>\n",
              "    </tr>\n",
              "    <tr>\n",
              "      <th>41371</th>\n",
              "      <td>-6.465283</td>\n",
              "      <td>-8.156106</td>\n",
              "      <td>0.470071</td>\n",
              "      <td>1.373821</td>\n",
              "      <td>1.953312</td>\n",
              "      <td>-1.680574</td>\n",
              "      <td>-0.328556</td>\n",
              "      <td>0.110676</td>\n",
              "      <td>-0.633314</td>\n",
              "      <td>0.658678</td>\n",
              "      <td>0.0</td>\n",
              "    </tr>\n",
              "    <tr>\n",
              "      <th>41372</th>\n",
              "      <td>-1.117972</td>\n",
              "      <td>0.091144</td>\n",
              "      <td>1.975912</td>\n",
              "      <td>0.496904</td>\n",
              "      <td>0.998723</td>\n",
              "      <td>0.106063</td>\n",
              "      <td>-0.175904</td>\n",
              "      <td>0.411996</td>\n",
              "      <td>-0.951737</td>\n",
              "      <td>-0.198503</td>\n",
              "      <td>0.0</td>\n",
              "    </tr>\n",
              "    <tr>\n",
              "      <th>41373</th>\n",
              "      <td>1.136674</td>\n",
              "      <td>0.212562</td>\n",
              "      <td>NaN</td>\n",
              "      <td>NaN</td>\n",
              "      <td>NaN</td>\n",
              "      <td>NaN</td>\n",
              "      <td>NaN</td>\n",
              "      <td>NaN</td>\n",
              "      <td>NaN</td>\n",
              "      <td>NaN</td>\n",
              "      <td>NaN</td>\n",
              "    </tr>\n",
              "  </tbody>\n",
              "</table>\n",
              "</div>\n",
              "      <button class=\"colab-df-convert\" onclick=\"convertToInteractive('df-04692498-0910-4528-a7c9-7641e34be277')\"\n",
              "              title=\"Convert this dataframe to an interactive table.\"\n",
              "              style=\"display:none;\">\n",
              "        \n",
              "  <svg xmlns=\"http://www.w3.org/2000/svg\" height=\"24px\"viewBox=\"0 0 24 24\"\n",
              "       width=\"24px\">\n",
              "    <path d=\"M0 0h24v24H0V0z\" fill=\"none\"/>\n",
              "    <path d=\"M18.56 5.44l.94 2.06.94-2.06 2.06-.94-2.06-.94-.94-2.06-.94 2.06-2.06.94zm-11 1L8.5 8.5l.94-2.06 2.06-.94-2.06-.94L8.5 2.5l-.94 2.06-2.06.94zm10 10l.94 2.06.94-2.06 2.06-.94-2.06-.94-.94-2.06-.94 2.06-2.06.94z\"/><path d=\"M17.41 7.96l-1.37-1.37c-.4-.4-.92-.59-1.43-.59-.52 0-1.04.2-1.43.59L10.3 9.45l-7.72 7.72c-.78.78-.78 2.05 0 2.83L4 21.41c.39.39.9.59 1.41.59.51 0 1.02-.2 1.41-.59l7.78-7.78 2.81-2.81c.8-.78.8-2.07 0-2.86zM5.41 20L4 18.59l7.72-7.72 1.47 1.35L5.41 20z\"/>\n",
              "  </svg>\n",
              "      </button>\n",
              "      \n",
              "  <style>\n",
              "    .colab-df-container {\n",
              "      display:flex;\n",
              "      flex-wrap:wrap;\n",
              "      gap: 12px;\n",
              "    }\n",
              "\n",
              "    .colab-df-convert {\n",
              "      background-color: #E8F0FE;\n",
              "      border: none;\n",
              "      border-radius: 50%;\n",
              "      cursor: pointer;\n",
              "      display: none;\n",
              "      fill: #1967D2;\n",
              "      height: 32px;\n",
              "      padding: 0 0 0 0;\n",
              "      width: 32px;\n",
              "    }\n",
              "\n",
              "    .colab-df-convert:hover {\n",
              "      background-color: #E2EBFA;\n",
              "      box-shadow: 0px 1px 2px rgba(60, 64, 67, 0.3), 0px 1px 3px 1px rgba(60, 64, 67, 0.15);\n",
              "      fill: #174EA6;\n",
              "    }\n",
              "\n",
              "    [theme=dark] .colab-df-convert {\n",
              "      background-color: #3B4455;\n",
              "      fill: #D2E3FC;\n",
              "    }\n",
              "\n",
              "    [theme=dark] .colab-df-convert:hover {\n",
              "      background-color: #434B5C;\n",
              "      box-shadow: 0px 1px 3px 1px rgba(0, 0, 0, 0.15);\n",
              "      filter: drop-shadow(0px 1px 2px rgba(0, 0, 0, 0.3));\n",
              "      fill: #FFFFFF;\n",
              "    }\n",
              "  </style>\n",
              "\n",
              "      <script>\n",
              "        const buttonEl =\n",
              "          document.querySelector('#df-04692498-0910-4528-a7c9-7641e34be277 button.colab-df-convert');\n",
              "        buttonEl.style.display =\n",
              "          google.colab.kernel.accessAllowed ? 'block' : 'none';\n",
              "\n",
              "        async function convertToInteractive(key) {\n",
              "          const element = document.querySelector('#df-04692498-0910-4528-a7c9-7641e34be277');\n",
              "          const dataTable =\n",
              "            await google.colab.kernel.invokeFunction('convertToInteractive',\n",
              "                                                     [key], {});\n",
              "          if (!dataTable) return;\n",
              "\n",
              "          const docLinkHtml = 'Like what you see? Visit the ' +\n",
              "            '<a target=\"_blank\" href=https://colab.research.google.com/notebooks/data_table.ipynb>data table notebook</a>'\n",
              "            + ' to learn more about interactive tables.';\n",
              "          element.innerHTML = '';\n",
              "          dataTable['output_type'] = 'display_data';\n",
              "          await google.colab.output.renderOutput(dataTable, element);\n",
              "          const docLink = document.createElement('div');\n",
              "          docLink.innerHTML = docLinkHtml;\n",
              "          element.appendChild(docLink);\n",
              "        }\n",
              "      </script>\n",
              "    </div>\n",
              "  </div>\n",
              "  "
            ]
          },
          "metadata": {},
          "execution_count": 4
        }
      ]
    },
    {
      "cell_type": "markdown",
      "source": [
        "***Checking the dimensions of the data using the shape function***\n",
        "\n",
        "***It can be seen that the data has 132283 rows with 11 columns***"
      ],
      "metadata": {
        "id": "CPKIZPdCQT0W"
      }
    },
    {
      "cell_type": "code",
      "source": [
        "dataset.shape"
      ],
      "metadata": {
        "colab": {
          "base_uri": "https://localhost:8080/"
        },
        "id": "6GvOgcVgpkI9",
        "outputId": "afe8ee02-92be-4dd1-bae6-b0122c34b60a"
      },
      "execution_count": null,
      "outputs": [
        {
          "output_type": "execute_result",
          "data": {
            "text/plain": [
              "(41374, 11)"
            ]
          },
          "metadata": {},
          "execution_count": 5
        }
      ]
    },
    {
      "cell_type": "markdown",
      "source": [
        "***Returns description of the data in the DataFrame using fescribe function. If the DataFrame contains numerical data, the description contains these information for each column:***\n",
        "\n",
        "1. ***count - The number of not-empty values***\n",
        "2. ***mean - The average (mean) value***\n",
        "3. ***std - The standard deviation***\n",
        "4. ***min - the minimum value***\n",
        "5. ***25% - The 25% percentile***\n",
        "6. ***50% - The 50% percentile***\n",
        "7. ***75% - The 75% percentile***\n",
        "8. ***max - the maximum value***"
      ],
      "metadata": {
        "id": "TDfJ6OxbQrfp"
      }
    },
    {
      "cell_type": "code",
      "source": [
        "dataset.describe()"
      ],
      "metadata": {
        "colab": {
          "base_uri": "https://localhost:8080/",
          "height": 364
        },
        "id": "M2M1d23Dp7mi",
        "outputId": "5cbe0775-70cd-4e66-cce5-56a0a5f328f3"
      },
      "execution_count": null,
      "outputs": [
        {
          "output_type": "execute_result",
          "data": {
            "text/plain": [
              "                 V1            V2            V3            V4            V5  \\\n",
              "count  41372.000000  41370.000000  41369.000000  41367.000000  41367.000000   \n",
              "mean      -0.222901      0.037433      0.712263      0.186742     -0.234407   \n",
              "std        1.854752      1.600582      1.492689      1.399497      1.388216   \n",
              "min      -56.407510    -72.715728    -31.103685     -5.172595    -42.147898   \n",
              "25%       -0.974342     -0.532097      0.230027     -0.719257     -0.841888   \n",
              "50%       -0.240918      0.095651      0.812154      0.185226     -0.271782   \n",
              "75%        1.159393      0.741155      1.444505      1.070003      0.293719   \n",
              "max        1.960497     16.713389      4.101716     16.491217     34.801666   \n",
              "\n",
              "                 V6            V7            V8            V9           V10  \\\n",
              "count  41372.000000  41369.000000  41369.000000  41368.000000  41370.000000   \n",
              "mean       0.100041     -0.112064      0.043680      0.197198     -0.068290   \n",
              "std        1.309907      1.240382      1.212603      1.221345      1.120272   \n",
              "min      -26.160506    -26.548144    -41.484823     -7.175097    -14.166795   \n",
              "25%       -0.637821     -0.598382     -0.151580     -0.566165     -0.549717   \n",
              "50%       -0.156688     -0.073240      0.050012      0.075110     -0.128614   \n",
              "75%        0.486727      0.432645      0.318326      0.911063      0.382103   \n",
              "max       22.529298     36.677268     20.007208     10.392889     12.701538   \n",
              "\n",
              "              Class  \n",
              "count  41373.000000  \n",
              "mean       0.002562  \n",
              "std        0.050552  \n",
              "min        0.000000  \n",
              "25%        0.000000  \n",
              "50%        0.000000  \n",
              "75%        0.000000  \n",
              "max        1.000000  "
            ],
            "text/html": [
              "\n",
              "  <div id=\"df-75ab7748-b573-45ad-81f7-430b5570c653\">\n",
              "    <div class=\"colab-df-container\">\n",
              "      <div>\n",
              "<style scoped>\n",
              "    .dataframe tbody tr th:only-of-type {\n",
              "        vertical-align: middle;\n",
              "    }\n",
              "\n",
              "    .dataframe tbody tr th {\n",
              "        vertical-align: top;\n",
              "    }\n",
              "\n",
              "    .dataframe thead th {\n",
              "        text-align: right;\n",
              "    }\n",
              "</style>\n",
              "<table border=\"1\" class=\"dataframe\">\n",
              "  <thead>\n",
              "    <tr style=\"text-align: right;\">\n",
              "      <th></th>\n",
              "      <th>V1</th>\n",
              "      <th>V2</th>\n",
              "      <th>V3</th>\n",
              "      <th>V4</th>\n",
              "      <th>V5</th>\n",
              "      <th>V6</th>\n",
              "      <th>V7</th>\n",
              "      <th>V8</th>\n",
              "      <th>V9</th>\n",
              "      <th>V10</th>\n",
              "      <th>Class</th>\n",
              "    </tr>\n",
              "  </thead>\n",
              "  <tbody>\n",
              "    <tr>\n",
              "      <th>count</th>\n",
              "      <td>41372.000000</td>\n",
              "      <td>41370.000000</td>\n",
              "      <td>41369.000000</td>\n",
              "      <td>41367.000000</td>\n",
              "      <td>41367.000000</td>\n",
              "      <td>41372.000000</td>\n",
              "      <td>41369.000000</td>\n",
              "      <td>41369.000000</td>\n",
              "      <td>41368.000000</td>\n",
              "      <td>41370.000000</td>\n",
              "      <td>41373.000000</td>\n",
              "    </tr>\n",
              "    <tr>\n",
              "      <th>mean</th>\n",
              "      <td>-0.222901</td>\n",
              "      <td>0.037433</td>\n",
              "      <td>0.712263</td>\n",
              "      <td>0.186742</td>\n",
              "      <td>-0.234407</td>\n",
              "      <td>0.100041</td>\n",
              "      <td>-0.112064</td>\n",
              "      <td>0.043680</td>\n",
              "      <td>0.197198</td>\n",
              "      <td>-0.068290</td>\n",
              "      <td>0.002562</td>\n",
              "    </tr>\n",
              "    <tr>\n",
              "      <th>std</th>\n",
              "      <td>1.854752</td>\n",
              "      <td>1.600582</td>\n",
              "      <td>1.492689</td>\n",
              "      <td>1.399497</td>\n",
              "      <td>1.388216</td>\n",
              "      <td>1.309907</td>\n",
              "      <td>1.240382</td>\n",
              "      <td>1.212603</td>\n",
              "      <td>1.221345</td>\n",
              "      <td>1.120272</td>\n",
              "      <td>0.050552</td>\n",
              "    </tr>\n",
              "    <tr>\n",
              "      <th>min</th>\n",
              "      <td>-56.407510</td>\n",
              "      <td>-72.715728</td>\n",
              "      <td>-31.103685</td>\n",
              "      <td>-5.172595</td>\n",
              "      <td>-42.147898</td>\n",
              "      <td>-26.160506</td>\n",
              "      <td>-26.548144</td>\n",
              "      <td>-41.484823</td>\n",
              "      <td>-7.175097</td>\n",
              "      <td>-14.166795</td>\n",
              "      <td>0.000000</td>\n",
              "    </tr>\n",
              "    <tr>\n",
              "      <th>25%</th>\n",
              "      <td>-0.974342</td>\n",
              "      <td>-0.532097</td>\n",
              "      <td>0.230027</td>\n",
              "      <td>-0.719257</td>\n",
              "      <td>-0.841888</td>\n",
              "      <td>-0.637821</td>\n",
              "      <td>-0.598382</td>\n",
              "      <td>-0.151580</td>\n",
              "      <td>-0.566165</td>\n",
              "      <td>-0.549717</td>\n",
              "      <td>0.000000</td>\n",
              "    </tr>\n",
              "    <tr>\n",
              "      <th>50%</th>\n",
              "      <td>-0.240918</td>\n",
              "      <td>0.095651</td>\n",
              "      <td>0.812154</td>\n",
              "      <td>0.185226</td>\n",
              "      <td>-0.271782</td>\n",
              "      <td>-0.156688</td>\n",
              "      <td>-0.073240</td>\n",
              "      <td>0.050012</td>\n",
              "      <td>0.075110</td>\n",
              "      <td>-0.128614</td>\n",
              "      <td>0.000000</td>\n",
              "    </tr>\n",
              "    <tr>\n",
              "      <th>75%</th>\n",
              "      <td>1.159393</td>\n",
              "      <td>0.741155</td>\n",
              "      <td>1.444505</td>\n",
              "      <td>1.070003</td>\n",
              "      <td>0.293719</td>\n",
              "      <td>0.486727</td>\n",
              "      <td>0.432645</td>\n",
              "      <td>0.318326</td>\n",
              "      <td>0.911063</td>\n",
              "      <td>0.382103</td>\n",
              "      <td>0.000000</td>\n",
              "    </tr>\n",
              "    <tr>\n",
              "      <th>max</th>\n",
              "      <td>1.960497</td>\n",
              "      <td>16.713389</td>\n",
              "      <td>4.101716</td>\n",
              "      <td>16.491217</td>\n",
              "      <td>34.801666</td>\n",
              "      <td>22.529298</td>\n",
              "      <td>36.677268</td>\n",
              "      <td>20.007208</td>\n",
              "      <td>10.392889</td>\n",
              "      <td>12.701538</td>\n",
              "      <td>1.000000</td>\n",
              "    </tr>\n",
              "  </tbody>\n",
              "</table>\n",
              "</div>\n",
              "      <button class=\"colab-df-convert\" onclick=\"convertToInteractive('df-75ab7748-b573-45ad-81f7-430b5570c653')\"\n",
              "              title=\"Convert this dataframe to an interactive table.\"\n",
              "              style=\"display:none;\">\n",
              "        \n",
              "  <svg xmlns=\"http://www.w3.org/2000/svg\" height=\"24px\"viewBox=\"0 0 24 24\"\n",
              "       width=\"24px\">\n",
              "    <path d=\"M0 0h24v24H0V0z\" fill=\"none\"/>\n",
              "    <path d=\"M18.56 5.44l.94 2.06.94-2.06 2.06-.94-2.06-.94-.94-2.06-.94 2.06-2.06.94zm-11 1L8.5 8.5l.94-2.06 2.06-.94-2.06-.94L8.5 2.5l-.94 2.06-2.06.94zm10 10l.94 2.06.94-2.06 2.06-.94-2.06-.94-.94-2.06-.94 2.06-2.06.94z\"/><path d=\"M17.41 7.96l-1.37-1.37c-.4-.4-.92-.59-1.43-.59-.52 0-1.04.2-1.43.59L10.3 9.45l-7.72 7.72c-.78.78-.78 2.05 0 2.83L4 21.41c.39.39.9.59 1.41.59.51 0 1.02-.2 1.41-.59l7.78-7.78 2.81-2.81c.8-.78.8-2.07 0-2.86zM5.41 20L4 18.59l7.72-7.72 1.47 1.35L5.41 20z\"/>\n",
              "  </svg>\n",
              "      </button>\n",
              "      \n",
              "  <style>\n",
              "    .colab-df-container {\n",
              "      display:flex;\n",
              "      flex-wrap:wrap;\n",
              "      gap: 12px;\n",
              "    }\n",
              "\n",
              "    .colab-df-convert {\n",
              "      background-color: #E8F0FE;\n",
              "      border: none;\n",
              "      border-radius: 50%;\n",
              "      cursor: pointer;\n",
              "      display: none;\n",
              "      fill: #1967D2;\n",
              "      height: 32px;\n",
              "      padding: 0 0 0 0;\n",
              "      width: 32px;\n",
              "    }\n",
              "\n",
              "    .colab-df-convert:hover {\n",
              "      background-color: #E2EBFA;\n",
              "      box-shadow: 0px 1px 2px rgba(60, 64, 67, 0.3), 0px 1px 3px 1px rgba(60, 64, 67, 0.15);\n",
              "      fill: #174EA6;\n",
              "    }\n",
              "\n",
              "    [theme=dark] .colab-df-convert {\n",
              "      background-color: #3B4455;\n",
              "      fill: #D2E3FC;\n",
              "    }\n",
              "\n",
              "    [theme=dark] .colab-df-convert:hover {\n",
              "      background-color: #434B5C;\n",
              "      box-shadow: 0px 1px 3px 1px rgba(0, 0, 0, 0.15);\n",
              "      filter: drop-shadow(0px 1px 2px rgba(0, 0, 0, 0.3));\n",
              "      fill: #FFFFFF;\n",
              "    }\n",
              "  </style>\n",
              "\n",
              "      <script>\n",
              "        const buttonEl =\n",
              "          document.querySelector('#df-75ab7748-b573-45ad-81f7-430b5570c653 button.colab-df-convert');\n",
              "        buttonEl.style.display =\n",
              "          google.colab.kernel.accessAllowed ? 'block' : 'none';\n",
              "\n",
              "        async function convertToInteractive(key) {\n",
              "          const element = document.querySelector('#df-75ab7748-b573-45ad-81f7-430b5570c653');\n",
              "          const dataTable =\n",
              "            await google.colab.kernel.invokeFunction('convertToInteractive',\n",
              "                                                     [key], {});\n",
              "          if (!dataTable) return;\n",
              "\n",
              "          const docLinkHtml = 'Like what you see? Visit the ' +\n",
              "            '<a target=\"_blank\" href=https://colab.research.google.com/notebooks/data_table.ipynb>data table notebook</a>'\n",
              "            + ' to learn more about interactive tables.';\n",
              "          element.innerHTML = '';\n",
              "          dataTable['output_type'] = 'display_data';\n",
              "          await google.colab.output.renderOutput(dataTable, element);\n",
              "          const docLink = document.createElement('div');\n",
              "          docLink.innerHTML = docLinkHtml;\n",
              "          element.appendChild(docLink);\n",
              "        }\n",
              "      </script>\n",
              "    </div>\n",
              "  </div>\n",
              "  "
            ]
          },
          "metadata": {},
          "execution_count": 6
        }
      ]
    },
    {
      "cell_type": "markdown",
      "source": [
        "***Get the informations about the dataset such as columns number, rows number, non-null count, data type using info function***"
      ],
      "metadata": {
        "id": "aYtZKR0NRpUB"
      }
    },
    {
      "cell_type": "code",
      "source": [
        "dataset.info()"
      ],
      "metadata": {
        "colab": {
          "base_uri": "https://localhost:8080/"
        },
        "id": "NpyP8gLCpoeZ",
        "outputId": "54380ef9-750e-4ab4-ea44-5d86664ae1c2"
      },
      "execution_count": null,
      "outputs": [
        {
          "output_type": "stream",
          "name": "stdout",
          "text": [
            "<class 'pandas.core.frame.DataFrame'>\n",
            "RangeIndex: 41374 entries, 0 to 41373\n",
            "Data columns (total 11 columns):\n",
            " #   Column  Non-Null Count  Dtype  \n",
            "---  ------  --------------  -----  \n",
            " 0   V1      41372 non-null  float64\n",
            " 1   V2      41370 non-null  float64\n",
            " 2   V3      41369 non-null  float64\n",
            " 3   V4      41367 non-null  float64\n",
            " 4   V5      41367 non-null  float64\n",
            " 5   V6      41372 non-null  float64\n",
            " 6   V7      41369 non-null  float64\n",
            " 7   V8      41369 non-null  float64\n",
            " 8   V9      41368 non-null  float64\n",
            " 9   V10     41370 non-null  float64\n",
            " 10  Class   41373 non-null  float64\n",
            "dtypes: float64(11)\n",
            "memory usage: 3.5 MB\n"
          ]
        }
      ]
    },
    {
      "cell_type": "markdown",
      "source": [
        "***Checking the empty data using isna function***"
      ],
      "metadata": {
        "id": "n0fhXzdISfFR"
      }
    },
    {
      "cell_type": "code",
      "source": [
        "dataset.isna()"
      ],
      "metadata": {
        "colab": {
          "base_uri": "https://localhost:8080/",
          "height": 424
        },
        "id": "MIdAyuJBzBNI",
        "outputId": "b9ff1c55-56fb-46fc-b197-f66729bd1aeb"
      },
      "execution_count": null,
      "outputs": [
        {
          "output_type": "execute_result",
          "data": {
            "text/plain": [
              "          V1     V2     V3     V4     V5     V6     V7     V8     V9    V10  \\\n",
              "0      False  False  False  False  False  False  False  False  False  False   \n",
              "1      False  False  False  False  False  False  False  False  False  False   \n",
              "2      False  False  False  False  False  False  False  False  False  False   \n",
              "3      False  False  False  False  False  False  False  False  False  False   \n",
              "4       True  False  False  False  False  False  False  False  False  False   \n",
              "...      ...    ...    ...    ...    ...    ...    ...    ...    ...    ...   \n",
              "41369  False  False  False  False  False  False  False  False  False  False   \n",
              "41370  False  False  False  False  False  False  False  False  False  False   \n",
              "41371  False  False  False  False  False  False  False  False  False  False   \n",
              "41372  False  False  False  False  False  False  False  False  False  False   \n",
              "41373  False  False   True   True   True   True   True   True   True   True   \n",
              "\n",
              "       Class  \n",
              "0      False  \n",
              "1      False  \n",
              "2      False  \n",
              "3      False  \n",
              "4      False  \n",
              "...      ...  \n",
              "41369  False  \n",
              "41370  False  \n",
              "41371  False  \n",
              "41372  False  \n",
              "41373   True  \n",
              "\n",
              "[41374 rows x 11 columns]"
            ],
            "text/html": [
              "\n",
              "  <div id=\"df-0f7f01e1-e441-46c4-b8c3-343dc0b35e2b\">\n",
              "    <div class=\"colab-df-container\">\n",
              "      <div>\n",
              "<style scoped>\n",
              "    .dataframe tbody tr th:only-of-type {\n",
              "        vertical-align: middle;\n",
              "    }\n",
              "\n",
              "    .dataframe tbody tr th {\n",
              "        vertical-align: top;\n",
              "    }\n",
              "\n",
              "    .dataframe thead th {\n",
              "        text-align: right;\n",
              "    }\n",
              "</style>\n",
              "<table border=\"1\" class=\"dataframe\">\n",
              "  <thead>\n",
              "    <tr style=\"text-align: right;\">\n",
              "      <th></th>\n",
              "      <th>V1</th>\n",
              "      <th>V2</th>\n",
              "      <th>V3</th>\n",
              "      <th>V4</th>\n",
              "      <th>V5</th>\n",
              "      <th>V6</th>\n",
              "      <th>V7</th>\n",
              "      <th>V8</th>\n",
              "      <th>V9</th>\n",
              "      <th>V10</th>\n",
              "      <th>Class</th>\n",
              "    </tr>\n",
              "  </thead>\n",
              "  <tbody>\n",
              "    <tr>\n",
              "      <th>0</th>\n",
              "      <td>False</td>\n",
              "      <td>False</td>\n",
              "      <td>False</td>\n",
              "      <td>False</td>\n",
              "      <td>False</td>\n",
              "      <td>False</td>\n",
              "      <td>False</td>\n",
              "      <td>False</td>\n",
              "      <td>False</td>\n",
              "      <td>False</td>\n",
              "      <td>False</td>\n",
              "    </tr>\n",
              "    <tr>\n",
              "      <th>1</th>\n",
              "      <td>False</td>\n",
              "      <td>False</td>\n",
              "      <td>False</td>\n",
              "      <td>False</td>\n",
              "      <td>False</td>\n",
              "      <td>False</td>\n",
              "      <td>False</td>\n",
              "      <td>False</td>\n",
              "      <td>False</td>\n",
              "      <td>False</td>\n",
              "      <td>False</td>\n",
              "    </tr>\n",
              "    <tr>\n",
              "      <th>2</th>\n",
              "      <td>False</td>\n",
              "      <td>False</td>\n",
              "      <td>False</td>\n",
              "      <td>False</td>\n",
              "      <td>False</td>\n",
              "      <td>False</td>\n",
              "      <td>False</td>\n",
              "      <td>False</td>\n",
              "      <td>False</td>\n",
              "      <td>False</td>\n",
              "      <td>False</td>\n",
              "    </tr>\n",
              "    <tr>\n",
              "      <th>3</th>\n",
              "      <td>False</td>\n",
              "      <td>False</td>\n",
              "      <td>False</td>\n",
              "      <td>False</td>\n",
              "      <td>False</td>\n",
              "      <td>False</td>\n",
              "      <td>False</td>\n",
              "      <td>False</td>\n",
              "      <td>False</td>\n",
              "      <td>False</td>\n",
              "      <td>False</td>\n",
              "    </tr>\n",
              "    <tr>\n",
              "      <th>4</th>\n",
              "      <td>True</td>\n",
              "      <td>False</td>\n",
              "      <td>False</td>\n",
              "      <td>False</td>\n",
              "      <td>False</td>\n",
              "      <td>False</td>\n",
              "      <td>False</td>\n",
              "      <td>False</td>\n",
              "      <td>False</td>\n",
              "      <td>False</td>\n",
              "      <td>False</td>\n",
              "    </tr>\n",
              "    <tr>\n",
              "      <th>...</th>\n",
              "      <td>...</td>\n",
              "      <td>...</td>\n",
              "      <td>...</td>\n",
              "      <td>...</td>\n",
              "      <td>...</td>\n",
              "      <td>...</td>\n",
              "      <td>...</td>\n",
              "      <td>...</td>\n",
              "      <td>...</td>\n",
              "      <td>...</td>\n",
              "      <td>...</td>\n",
              "    </tr>\n",
              "    <tr>\n",
              "      <th>41369</th>\n",
              "      <td>False</td>\n",
              "      <td>False</td>\n",
              "      <td>False</td>\n",
              "      <td>False</td>\n",
              "      <td>False</td>\n",
              "      <td>False</td>\n",
              "      <td>False</td>\n",
              "      <td>False</td>\n",
              "      <td>False</td>\n",
              "      <td>False</td>\n",
              "      <td>False</td>\n",
              "    </tr>\n",
              "    <tr>\n",
              "      <th>41370</th>\n",
              "      <td>False</td>\n",
              "      <td>False</td>\n",
              "      <td>False</td>\n",
              "      <td>False</td>\n",
              "      <td>False</td>\n",
              "      <td>False</td>\n",
              "      <td>False</td>\n",
              "      <td>False</td>\n",
              "      <td>False</td>\n",
              "      <td>False</td>\n",
              "      <td>False</td>\n",
              "    </tr>\n",
              "    <tr>\n",
              "      <th>41371</th>\n",
              "      <td>False</td>\n",
              "      <td>False</td>\n",
              "      <td>False</td>\n",
              "      <td>False</td>\n",
              "      <td>False</td>\n",
              "      <td>False</td>\n",
              "      <td>False</td>\n",
              "      <td>False</td>\n",
              "      <td>False</td>\n",
              "      <td>False</td>\n",
              "      <td>False</td>\n",
              "    </tr>\n",
              "    <tr>\n",
              "      <th>41372</th>\n",
              "      <td>False</td>\n",
              "      <td>False</td>\n",
              "      <td>False</td>\n",
              "      <td>False</td>\n",
              "      <td>False</td>\n",
              "      <td>False</td>\n",
              "      <td>False</td>\n",
              "      <td>False</td>\n",
              "      <td>False</td>\n",
              "      <td>False</td>\n",
              "      <td>False</td>\n",
              "    </tr>\n",
              "    <tr>\n",
              "      <th>41373</th>\n",
              "      <td>False</td>\n",
              "      <td>False</td>\n",
              "      <td>True</td>\n",
              "      <td>True</td>\n",
              "      <td>True</td>\n",
              "      <td>True</td>\n",
              "      <td>True</td>\n",
              "      <td>True</td>\n",
              "      <td>True</td>\n",
              "      <td>True</td>\n",
              "      <td>True</td>\n",
              "    </tr>\n",
              "  </tbody>\n",
              "</table>\n",
              "<p>41374 rows × 11 columns</p>\n",
              "</div>\n",
              "      <button class=\"colab-df-convert\" onclick=\"convertToInteractive('df-0f7f01e1-e441-46c4-b8c3-343dc0b35e2b')\"\n",
              "              title=\"Convert this dataframe to an interactive table.\"\n",
              "              style=\"display:none;\">\n",
              "        \n",
              "  <svg xmlns=\"http://www.w3.org/2000/svg\" height=\"24px\"viewBox=\"0 0 24 24\"\n",
              "       width=\"24px\">\n",
              "    <path d=\"M0 0h24v24H0V0z\" fill=\"none\"/>\n",
              "    <path d=\"M18.56 5.44l.94 2.06.94-2.06 2.06-.94-2.06-.94-.94-2.06-.94 2.06-2.06.94zm-11 1L8.5 8.5l.94-2.06 2.06-.94-2.06-.94L8.5 2.5l-.94 2.06-2.06.94zm10 10l.94 2.06.94-2.06 2.06-.94-2.06-.94-.94-2.06-.94 2.06-2.06.94z\"/><path d=\"M17.41 7.96l-1.37-1.37c-.4-.4-.92-.59-1.43-.59-.52 0-1.04.2-1.43.59L10.3 9.45l-7.72 7.72c-.78.78-.78 2.05 0 2.83L4 21.41c.39.39.9.59 1.41.59.51 0 1.02-.2 1.41-.59l7.78-7.78 2.81-2.81c.8-.78.8-2.07 0-2.86zM5.41 20L4 18.59l7.72-7.72 1.47 1.35L5.41 20z\"/>\n",
              "  </svg>\n",
              "      </button>\n",
              "      \n",
              "  <style>\n",
              "    .colab-df-container {\n",
              "      display:flex;\n",
              "      flex-wrap:wrap;\n",
              "      gap: 12px;\n",
              "    }\n",
              "\n",
              "    .colab-df-convert {\n",
              "      background-color: #E8F0FE;\n",
              "      border: none;\n",
              "      border-radius: 50%;\n",
              "      cursor: pointer;\n",
              "      display: none;\n",
              "      fill: #1967D2;\n",
              "      height: 32px;\n",
              "      padding: 0 0 0 0;\n",
              "      width: 32px;\n",
              "    }\n",
              "\n",
              "    .colab-df-convert:hover {\n",
              "      background-color: #E2EBFA;\n",
              "      box-shadow: 0px 1px 2px rgba(60, 64, 67, 0.3), 0px 1px 3px 1px rgba(60, 64, 67, 0.15);\n",
              "      fill: #174EA6;\n",
              "    }\n",
              "\n",
              "    [theme=dark] .colab-df-convert {\n",
              "      background-color: #3B4455;\n",
              "      fill: #D2E3FC;\n",
              "    }\n",
              "\n",
              "    [theme=dark] .colab-df-convert:hover {\n",
              "      background-color: #434B5C;\n",
              "      box-shadow: 0px 1px 3px 1px rgba(0, 0, 0, 0.15);\n",
              "      filter: drop-shadow(0px 1px 2px rgba(0, 0, 0, 0.3));\n",
              "      fill: #FFFFFF;\n",
              "    }\n",
              "  </style>\n",
              "\n",
              "      <script>\n",
              "        const buttonEl =\n",
              "          document.querySelector('#df-0f7f01e1-e441-46c4-b8c3-343dc0b35e2b button.colab-df-convert');\n",
              "        buttonEl.style.display =\n",
              "          google.colab.kernel.accessAllowed ? 'block' : 'none';\n",
              "\n",
              "        async function convertToInteractive(key) {\n",
              "          const element = document.querySelector('#df-0f7f01e1-e441-46c4-b8c3-343dc0b35e2b');\n",
              "          const dataTable =\n",
              "            await google.colab.kernel.invokeFunction('convertToInteractive',\n",
              "                                                     [key], {});\n",
              "          if (!dataTable) return;\n",
              "\n",
              "          const docLinkHtml = 'Like what you see? Visit the ' +\n",
              "            '<a target=\"_blank\" href=https://colab.research.google.com/notebooks/data_table.ipynb>data table notebook</a>'\n",
              "            + ' to learn more about interactive tables.';\n",
              "          element.innerHTML = '';\n",
              "          dataTable['output_type'] = 'display_data';\n",
              "          await google.colab.output.renderOutput(dataTable, element);\n",
              "          const docLink = document.createElement('div');\n",
              "          docLink.innerHTML = docLinkHtml;\n",
              "          element.appendChild(docLink);\n",
              "        }\n",
              "      </script>\n",
              "    </div>\n",
              "  </div>\n",
              "  "
            ]
          },
          "metadata": {},
          "execution_count": 8
        }
      ]
    },
    {
      "cell_type": "markdown",
      "source": [
        "***Checking the summary of the number of each empty data using sum function***"
      ],
      "metadata": {
        "id": "Y8sKvabmSwTx"
      }
    },
    {
      "cell_type": "code",
      "source": [
        "dataset.isna().sum()"
      ],
      "metadata": {
        "colab": {
          "base_uri": "https://localhost:8080/"
        },
        "id": "FrGhE6MFzGlv",
        "outputId": "9af6d077-5c15-40e7-f241-e69aa850bf09"
      },
      "execution_count": null,
      "outputs": [
        {
          "output_type": "execute_result",
          "data": {
            "text/plain": [
              "V1       2\n",
              "V2       4\n",
              "V3       5\n",
              "V4       7\n",
              "V5       7\n",
              "V6       2\n",
              "V7       5\n",
              "V8       5\n",
              "V9       6\n",
              "V10      4\n",
              "Class    1\n",
              "dtype: int64"
            ]
          },
          "metadata": {},
          "execution_count": 9
        }
      ]
    },
    {
      "cell_type": "markdown",
      "source": [
        "***Show the summary of the number of each empty data in plot visualize using plot function. It can be seen in V1 there are 5 empty data, V2 has 4 empty data, V3 has 6 empty data, V4 has 7 empty data, V5 has 6 empty data, V6 has 1 empty data, V7 has 5 empty data, V8 has 6 empty data , V9 there are 8 empty data, V10 there are 5 empty data, and in the class column there are 0 empty data.***"
      ],
      "metadata": {
        "id": "8MUZIuQ-S8oN"
      }
    },
    {
      "cell_type": "code",
      "source": [
        "dataset.isna().sum().plot()"
      ],
      "metadata": {
        "colab": {
          "base_uri": "https://localhost:8080/",
          "height": 283
        },
        "id": "exQOapqyRSOw",
        "outputId": "c315d746-658c-4c0f-80dc-226fe45fd711"
      },
      "execution_count": null,
      "outputs": [
        {
          "output_type": "execute_result",
          "data": {
            "text/plain": [
              "<matplotlib.axes._subplots.AxesSubplot at 0x7f871cb99750>"
            ]
          },
          "metadata": {},
          "execution_count": 10
        },
        {
          "output_type": "display_data",
          "data": {
            "text/plain": [
              "<Figure size 432x288 with 1 Axes>"
            ],
            "image/png": "[encoded data removed]"
          },
          "metadata": {
            "needs_background": "light"
          }
        }
      ]
    },
    {
      "cell_type": "markdown",
      "source": [
        "***Checking the amount of each label according to the target by counting each true and false in the column using the value_counts function***"
      ],
      "metadata": {
        "id": "vADNeun0TfpG"
      }
    },
    {
      "cell_type": "code",
      "source": [
        "dataset['Class'].value_counts()"
      ],
      "metadata": {
        "colab": {
          "base_uri": "https://localhost:8080/"
        },
        "id": "XUQcVfRZSGXo",
        "outputId": "d331d057-bcb0-4eb2-b86a-f25afdbf5208"
      },
      "execution_count": null,
      "outputs": [
        {
          "output_type": "execute_result",
          "data": {
            "text/plain": [
              "0.0    41267\n",
              "1.0      106\n",
              "Name: Class, dtype: int64"
            ]
          },
          "metadata": {},
          "execution_count": 11
        }
      ]
    },
    {
      "cell_type": "markdown",
      "source": [
        "***Declare sum variable to perform comparison calculations to determine whether the data is balanced or unbalanced by adding values 0 and 1***"
      ],
      "metadata": {
        "id": "kVtyiN93UFtJ"
      }
    },
    {
      "cell_type": "code",
      "source": [
        "sum = 284315+492"
      ],
      "metadata": {
        "id": "V86wawUrSK5g"
      },
      "execution_count": null,
      "outputs": []
    },
    {
      "cell_type": "markdown",
      "source": [
        "***Then each value is divided by the sum  to find out how many percentages 0 and 1 values labels with the sum variable***\n",
        "\n",
        "***It can be seen that the dataset is not balanced when viewed from the comparison of the labels. Where the model can predict the value of 1 more than\n",
        "a value of 0 which will cause a bias in subsequent predictions***"
      ],
      "metadata": {
        "id": "L6ZV73-oURwj"
      }
    },
    {
      "cell_type": "code",
      "source": [
        "print('Persentase Label 0 :', 284315/sum)\n",
        "print('Persentase Label 1 :', 492/sum)"
      ],
      "metadata": {
        "colab": {
          "base_uri": "https://localhost:8080/"
        },
        "id": "VAuBO3XYSSUt",
        "outputId": "e8b8effc-07c2-4cda-ab70-20a8b59c450c"
      },
      "execution_count": null,
      "outputs": [
        {
          "output_type": "stream",
          "name": "stdout",
          "text": [
            "Persentase Label 0 : 0.9982725143693799\n",
            "Persentase Label 1 : 0.001727485630620034\n"
          ]
        }
      ]
    },
    {
      "cell_type": "markdown",
      "source": [
        "***Checking the outliers in boxplot form using the seaborn function from sns library***\n",
        "\n",
        "***It can be seen that all columns have the outliers as a pattern that is different from the normal pattern***"
      ],
      "metadata": {
        "id": "2jBdyyg2VaTu"
      }
    },
    {
      "cell_type": "code",
      "source": [
        "sns.boxplot(x = \"value\",\n",
        "            y = \"variable\",\n",
        "            color = 'red',\n",
        "            orient = 'h',\n",
        "            data = pd.melt(dataset))\n",
        "plt.show()"
      ],
      "metadata": {
        "colab": {
          "base_uri": "https://localhost:8080/",
          "height": 279
        },
        "id": "lVlLQsa6SWNI",
        "outputId": "77777d9a-b4d3-4f41-b3b2-111fbef765d3"
      },
      "execution_count": null,
      "outputs": [
        {
          "output_type": "display_data",
          "data": {
            "text/plain": [
              "<Figure size 432x288 with 1 Axes>"
            ],
            "image/png": "[encoded data removed]"
          },
          "metadata": {
            "needs_background": "light"
          }
        }
      ]
    },
    {
      "cell_type": "markdown",
      "source": [
        "***Replace each the empty data using the fillna function which is assigned a value of 0.***"
      ],
      "metadata": {
        "id": "hXMa4qCwV5Hg"
      }
    },
    {
      "cell_type": "code",
      "source": [
        "dataset = dataset.fillna(0)"
      ],
      "metadata": {
        "id": "wtISxSMZSsJE"
      },
      "execution_count": null,
      "outputs": []
    },
    {
      "cell_type": "markdown",
      "source": [
        "***Recheck the summary of the sum of each empty data using sum function***"
      ],
      "metadata": {
        "id": "WIudtFl4WKZ9"
      }
    },
    {
      "cell_type": "code",
      "source": [
        "dataset.isna().sum()"
      ],
      "metadata": {
        "colab": {
          "base_uri": "https://localhost:8080/"
        },
        "id": "g2bl4eedSx6X",
        "outputId": "d750533e-864c-4984-c03e-90fbab84e467"
      },
      "execution_count": null,
      "outputs": [
        {
          "output_type": "execute_result",
          "data": {
            "text/plain": [
              "V1       0\n",
              "V2       0\n",
              "V3       0\n",
              "V4       0\n",
              "V5       0\n",
              "V6       0\n",
              "V7       0\n",
              "V8       0\n",
              "V9       0\n",
              "V10      0\n",
              "Class    0\n",
              "dtype: int64"
            ]
          },
          "metadata": {},
          "execution_count": 16
        }
      ]
    },
    {
      "cell_type": "markdown",
      "source": [
        "***Show the summary of the number of each blank data in plot visualize using plot function***\n",
        "\n",
        "***It can be seen on the plot where the dataset is clean now from the empty data***"
      ],
      "metadata": {
        "id": "Eex2Z9LlWQIW"
      }
    },
    {
      "cell_type": "code",
      "source": [
        "dataset.isna().sum().plot()"
      ],
      "metadata": {
        "colab": {
          "base_uri": "https://localhost:8080/",
          "height": 283
        },
        "id": "XnoOuzN3S1IR",
        "outputId": "33775839-ee89-4f2c-d713-dce9e7952996"
      },
      "execution_count": null,
      "outputs": [
        {
          "output_type": "execute_result",
          "data": {
            "text/plain": [
              "<matplotlib.axes._subplots.AxesSubplot at 0x7f871bbb4350>"
            ]
          },
          "metadata": {},
          "execution_count": 17
        },
        {
          "output_type": "display_data",
          "data": {
            "text/plain": [
              "<Figure size 432x288 with 1 Axes>"
            ],
            "image/png": "[encoded data removed]"
          },
          "metadata": {
            "needs_background": "light"
          }
        }
      ]
    },
    {
      "cell_type": "markdown",
      "source": [
        "***Checking the independent and the dependent variables in the data using pearson correlation method which will look for the highest correlation from the independent variable to the dependent variable***\n",
        "\n",
        "***It can be seen that V4 is the column with the highest correlation and V10 is the lowest correlation***"
      ],
      "metadata": {
        "id": "4S_7PDJdW6Yb"
      }
    },
    {
      "cell_type": "code",
      "source": [
        "dataset[dataset.columns[0:]].corr(method = 'pearson')['Class'][:].sort_values()"
      ],
      "metadata": {
        "colab": {
          "base_uri": "https://localhost:8080/"
        },
        "id": "R6cq6bTPS3Th",
        "outputId": "299045cc-5adb-482d-f2cc-22592e9017ea"
      },
      "execution_count": null,
      "outputs": [
        {
          "output_type": "execute_result",
          "data": {
            "text/plain": [
              "V3      -0.387492\n",
              "V7      -0.301032\n",
              "V10     -0.294046\n",
              "V1      -0.199699\n",
              "V5      -0.184483\n",
              "V9      -0.128274\n",
              "V6      -0.091277\n",
              "V8       0.155027\n",
              "V2       0.179180\n",
              "V4       0.203990\n",
              "Class    1.000000\n",
              "Name: Class, dtype: float64"
            ]
          },
          "metadata": {},
          "execution_count": 18
        }
      ]
    },
    {
      "cell_type": "markdown",
      "source": [
        "***Checking the correlation in heatmap form using heatmap function from sns library***"
      ],
      "metadata": {
        "id": "Sno68AdlXW6m"
      }
    },
    {
      "cell_type": "code",
      "source": [
        "plt.figure(figsize = (10, 6))\n",
        "sns.heatmap(data = dataset.corr(), cmap = \"BuPu\", annot = True);"
      ],
      "metadata": {
        "colab": {
          "base_uri": "https://localhost:8080/",
          "height": 378
        },
        "id": "j_HASyqkS-Qi",
        "outputId": "38293246-f7fe-408a-fd74-08f530efcd02"
      },
      "execution_count": null,
      "outputs": [
        {
          "output_type": "display_data",
          "data": {
            "text/plain": [
              "<Figure size 720x432 with 2 Axes>"
            ],
            "image/png": "[encoded data removed]"
          },
          "metadata": {
            "needs_background": "light"
          }
        }
      ]
    },
    {
      "cell_type": "markdown",
      "source": [
        "***Handling the outliers with IQR using the mean method where the system divides Q3 into 75 percent of the data and Q1 into 25 percent of the data. Then do the subtraction between Q3 - Q1. The results are then entered into the formula to determine the upper and lower limits. Then the calculation results will be calculated to take the mean value using the mean function.***"
      ],
      "metadata": {
        "id": "9MHBm7QPXqqG"
      }
    },
    {
      "cell_type": "code",
      "source": [
        "def outliers_handle(dataset):\n",
        "    Q1 = dataset.quantile(0.25)\n",
        "    Q3 = dataset.quantile(0.75)\n",
        "    IQR = Q3  -Q1\n",
        "    UPPER = dataset[~(dataset>(Q3+1.5*IQR))].max()\n",
        "    LOWER = dataset[~(dataset<(Q1-1.5*IQR))].min()\n",
        "\n",
        "    dataset = np.where(dataset > UPPER, \n",
        "                dataset.mean(), \n",
        "                np.where(dataset < LOWER, dataset.mean(),\n",
        "                dataset))\n",
        "    return dataset"
      ],
      "metadata": {
        "id": "TRKy5zgrTWej"
      },
      "execution_count": null,
      "outputs": []
    },
    {
      "cell_type": "markdown",
      "source": [
        "***Declare dataset_new variable to accomodate and applying the outliers handle function to the dependent variable and the independent variable with looping method***"
      ],
      "metadata": {
        "id": "jtjnHsjxYIyW"
      }
    },
    {
      "cell_type": "code",
      "source": [
        "dataset_new = pd.DataFrame()\n",
        "for i in dataset.iloc[:, :-1]:\n",
        "    dataset_new[i] = outliers_handle(dataset[i])"
      ],
      "metadata": {
        "id": "ASs5KTEqTvRG"
      },
      "execution_count": null,
      "outputs": []
    },
    {
      "cell_type": "markdown",
      "source": [
        "***Exception For the Class column in the data that has been handled outliers will still have the same value as the original Class column using the copy function***"
      ],
      "metadata": {
        "id": "uEKhc3EhYfz9"
      }
    },
    {
      "cell_type": "code",
      "source": [
        "dataset_new['Class'] = dataset['Class'].copy()"
      ],
      "metadata": {
        "id": "hPpy3g4iT_E-"
      },
      "execution_count": null,
      "outputs": []
    },
    {
      "cell_type": "markdown",
      "source": [
        "***Show the top 5 new data whose the outliers have been resolved using head function***"
      ],
      "metadata": {
        "id": "hfj9jxIlYsVx"
      }
    },
    {
      "cell_type": "code",
      "source": [
        "dataset_new.head()"
      ],
      "metadata": {
        "colab": {
          "base_uri": "https://localhost:8080/",
          "height": 270
        },
        "id": "6Pw4LzQFUC8l",
        "outputId": "e9997dae-169c-4ed7-ecdf-39fda23159a7"
      },
      "execution_count": null,
      "outputs": [
        {
          "output_type": "execute_result",
          "data": {
            "text/plain": [
              "         V1        V2        V3        V4        V5        V6        V7  \\\n",
              "0 -1.359807 -0.072781  2.536347  1.378155 -0.338321  0.462388  0.239599   \n",
              "1  1.191857  0.266151  0.166480  0.448154  0.060018 -0.082361 -0.078803   \n",
              "2 -1.358354 -1.340163  1.773209  0.379780 -0.503198  1.800499  0.791461   \n",
              "3 -0.966272 -0.185226  1.792993 -0.863291 -0.010309  1.247203  0.237609   \n",
              "4  0.000000  0.877737  1.548718  0.403034 -0.407193  0.095921  0.592941   \n",
              "\n",
              "         V8        V9       V10  Class  \n",
              "0  0.098698  0.363787  0.090794    0.0  \n",
              "1  0.085102 -0.255425 -0.166974    0.0  \n",
              "2  0.247676 -1.514654  0.207643    0.0  \n",
              "3  0.377436 -1.387024 -0.054952    0.0  \n",
              "4 -0.270533  0.817739  0.753074    0.0  "
            ],
            "text/html": [
              "\n",
              "  <div id=\"df-c8b15b7b-48b5-43db-9511-4776cc4aeede\">\n",
              "    <div class=\"colab-df-container\">\n",
              "      <div>\n",
              "<style scoped>\n",
              "    .dataframe tbody tr th:only-of-type {\n",
              "        vertical-align: middle;\n",
              "    }\n",
              "\n",
              "    .dataframe tbody tr th {\n",
              "        vertical-align: top;\n",
              "    }\n",
              "\n",
              "    .dataframe thead th {\n",
              "        text-align: right;\n",
              "    }\n",
              "</style>\n",
              "<table border=\"1\" class=\"dataframe\">\n",
              "  <thead>\n",
              "    <tr style=\"text-align: right;\">\n",
              "      <th></th>\n",
              "      <th>V1</th>\n",
              "      <th>V2</th>\n",
              "      <th>V3</th>\n",
              "      <th>V4</th>\n",
              "      <th>V5</th>\n",
              "      <th>V6</th>\n",
              "      <th>V7</th>\n",
              "      <th>V8</th>\n",
              "      <th>V9</th>\n",
              "      <th>V10</th>\n",
              "      <th>Class</th>\n",
              "    </tr>\n",
              "  </thead>\n",
              "  <tbody>\n",
              "    <tr>\n",
              "      <th>0</th>\n",
              "      <td>-1.359807</td>\n",
              "      <td>-0.072781</td>\n",
              "      <td>2.536347</td>\n",
              "      <td>1.378155</td>\n",
              "      <td>-0.338321</td>\n",
              "      <td>0.462388</td>\n",
              "      <td>0.239599</td>\n",
              "      <td>0.098698</td>\n",
              "      <td>0.363787</td>\n",
              "      <td>0.090794</td>\n",
              "      <td>0.0</td>\n",
              "    </tr>\n",
              "    <tr>\n",
              "      <th>1</th>\n",
              "      <td>1.191857</td>\n",
              "      <td>0.266151</td>\n",
              "      <td>0.166480</td>\n",
              "      <td>0.448154</td>\n",
              "      <td>0.060018</td>\n",
              "      <td>-0.082361</td>\n",
              "      <td>-0.078803</td>\n",
              "      <td>0.085102</td>\n",
              "      <td>-0.255425</td>\n",
              "      <td>-0.166974</td>\n",
              "      <td>0.0</td>\n",
              "    </tr>\n",
              "    <tr>\n",
              "      <th>2</th>\n",
              "      <td>-1.358354</td>\n",
              "      <td>-1.340163</td>\n",
              "      <td>1.773209</td>\n",
              "      <td>0.379780</td>\n",
              "      <td>-0.503198</td>\n",
              "      <td>1.800499</td>\n",
              "      <td>0.791461</td>\n",
              "      <td>0.247676</td>\n",
              "      <td>-1.514654</td>\n",
              "      <td>0.207643</td>\n",
              "      <td>0.0</td>\n",
              "    </tr>\n",
              "    <tr>\n",
              "      <th>3</th>\n",
              "      <td>-0.966272</td>\n",
              "      <td>-0.185226</td>\n",
              "      <td>1.792993</td>\n",
              "      <td>-0.863291</td>\n",
              "      <td>-0.010309</td>\n",
              "      <td>1.247203</td>\n",
              "      <td>0.237609</td>\n",
              "      <td>0.377436</td>\n",
              "      <td>-1.387024</td>\n",
              "      <td>-0.054952</td>\n",
              "      <td>0.0</td>\n",
              "    </tr>\n",
              "    <tr>\n",
              "      <th>4</th>\n",
              "      <td>0.000000</td>\n",
              "      <td>0.877737</td>\n",
              "      <td>1.548718</td>\n",
              "      <td>0.403034</td>\n",
              "      <td>-0.407193</td>\n",
              "      <td>0.095921</td>\n",
              "      <td>0.592941</td>\n",
              "      <td>-0.270533</td>\n",
              "      <td>0.817739</td>\n",
              "      <td>0.753074</td>\n",
              "      <td>0.0</td>\n",
              "    </tr>\n",
              "  </tbody>\n",
              "</table>\n",
              "</div>\n",
              "      <button class=\"colab-df-convert\" onclick=\"convertToInteractive('df-c8b15b7b-48b5-43db-9511-4776cc4aeede')\"\n",
              "              title=\"Convert this dataframe to an interactive table.\"\n",
              "              style=\"display:none;\">\n",
              "        \n",
              "  <svg xmlns=\"http://www.w3.org/2000/svg\" height=\"24px\"viewBox=\"0 0 24 24\"\n",
              "       width=\"24px\">\n",
              "    <path d=\"M0 0h24v24H0V0z\" fill=\"none\"/>\n",
              "    <path d=\"M18.56 5.44l.94 2.06.94-2.06 2.06-.94-2.06-.94-.94-2.06-.94 2.06-2.06.94zm-11 1L8.5 8.5l.94-2.06 2.06-.94-2.06-.94L8.5 2.5l-.94 2.06-2.06.94zm10 10l.94 2.06.94-2.06 2.06-.94-2.06-.94-.94-2.06-.94 2.06-2.06.94z\"/><path d=\"M17.41 7.96l-1.37-1.37c-.4-.4-.92-.59-1.43-.59-.52 0-1.04.2-1.43.59L10.3 9.45l-7.72 7.72c-.78.78-.78 2.05 0 2.83L4 21.41c.39.39.9.59 1.41.59.51 0 1.02-.2 1.41-.59l7.78-7.78 2.81-2.81c.8-.78.8-2.07 0-2.86zM5.41 20L4 18.59l7.72-7.72 1.47 1.35L5.41 20z\"/>\n",
              "  </svg>\n",
              "      </button>\n",
              "      \n",
              "  <style>\n",
              "    .colab-df-container {\n",
              "      display:flex;\n",
              "      flex-wrap:wrap;\n",
              "      gap: 12px;\n",
              "    }\n",
              "\n",
              "    .colab-df-convert {\n",
              "      background-color: #E8F0FE;\n",
              "      border: none;\n",
              "      border-radius: 50%;\n",
              "      cursor: pointer;\n",
              "      display: none;\n",
              "      fill: #1967D2;\n",
              "      height: 32px;\n",
              "      padding: 0 0 0 0;\n",
              "      width: 32px;\n",
              "    }\n",
              "\n",
              "    .colab-df-convert:hover {\n",
              "      background-color: #E2EBFA;\n",
              "      box-shadow: 0px 1px 2px rgba(60, 64, 67, 0.3), 0px 1px 3px 1px rgba(60, 64, 67, 0.15);\n",
              "      fill: #174EA6;\n",
              "    }\n",
              "\n",
              "    [theme=dark] .colab-df-convert {\n",
              "      background-color: #3B4455;\n",
              "      fill: #D2E3FC;\n",
              "    }\n",
              "\n",
              "    [theme=dark] .colab-df-convert:hover {\n",
              "      background-color: #434B5C;\n",
              "      box-shadow: 0px 1px 3px 1px rgba(0, 0, 0, 0.15);\n",
              "      filter: drop-shadow(0px 1px 2px rgba(0, 0, 0, 0.3));\n",
              "      fill: #FFFFFF;\n",
              "    }\n",
              "  </style>\n",
              "\n",
              "      <script>\n",
              "        const buttonEl =\n",
              "          document.querySelector('#df-c8b15b7b-48b5-43db-9511-4776cc4aeede button.colab-df-convert');\n",
              "        buttonEl.style.display =\n",
              "          google.colab.kernel.accessAllowed ? 'block' : 'none';\n",
              "\n",
              "        async function convertToInteractive(key) {\n",
              "          const element = document.querySelector('#df-c8b15b7b-48b5-43db-9511-4776cc4aeede');\n",
              "          const dataTable =\n",
              "            await google.colab.kernel.invokeFunction('convertToInteractive',\n",
              "                                                     [key], {});\n",
              "          if (!dataTable) return;\n",
              "\n",
              "          const docLinkHtml = 'Like what you see? Visit the ' +\n",
              "            '<a target=\"_blank\" href=https://colab.research.google.com/notebooks/data_table.ipynb>data table notebook</a>'\n",
              "            + ' to learn more about interactive tables.';\n",
              "          element.innerHTML = '';\n",
              "          dataTable['output_type'] = 'display_data';\n",
              "          await google.colab.output.renderOutput(dataTable, element);\n",
              "          const docLink = document.createElement('div');\n",
              "          docLink.innerHTML = docLinkHtml;\n",
              "          element.appendChild(docLink);\n",
              "        }\n",
              "      </script>\n",
              "    </div>\n",
              "  </div>\n",
              "  "
            ]
          },
          "metadata": {},
          "execution_count": 23
        }
      ]
    },
    {
      "cell_type": "markdown",
      "source": [
        "***Show the bottom 5 new data whose the outliers have been resolved using tail function***"
      ],
      "metadata": {
        "id": "XOALJqPQZPlv"
      }
    },
    {
      "cell_type": "code",
      "source": [
        "dataset_new.tail()"
      ],
      "metadata": {
        "colab": {
          "base_uri": "https://localhost:8080/",
          "height": 270
        },
        "id": "LQXZLp_FUMyC",
        "outputId": "3311fa7c-4266-4b93-d1e0-27b8be8407ce"
      },
      "execution_count": null,
      "outputs": [
        {
          "output_type": "execute_result",
          "data": {
            "text/plain": [
              "             V1        V2        V3        V4        V5        V6        V7  \\\n",
              "41369  1.341766  0.064070 -0.020255 -0.108298 -0.146895 -0.679384  0.041574   \n",
              "41370 -1.075491 -0.437308  1.452632 -1.890234 -0.147365 -1.050495  0.232710   \n",
              "41371 -0.222891  0.037430  0.470071  1.373821  1.953312 -1.680574 -0.328556   \n",
              "41372 -1.117972  0.091144  1.975912  0.496904  0.998723  0.106063 -0.175904   \n",
              "41373  1.136674  0.212562  0.000000  0.000000  0.000000  0.000000  0.000000   \n",
              "\n",
              "             V8        V9       V10  Class  \n",
              "41369 -0.186474  0.190224 -0.132543    0.0  \n",
              "41370 -0.063106  1.625540 -1.886182    0.0  \n",
              "41371  0.110676 -0.633314  0.658678    0.0  \n",
              "41372  0.411996 -0.951737 -0.198503    0.0  \n",
              "41373  0.000000  0.000000  0.000000    0.0  "
            ],
            "text/html": [
              "\n",
              "  <div id=\"df-af4a1425-bc52-4e79-a897-ee1a8e7e9950\">\n",
              "    <div class=\"colab-df-container\">\n",
              "      <div>\n",
              "<style scoped>\n",
              "    .dataframe tbody tr th:only-of-type {\n",
              "        vertical-align: middle;\n",
              "    }\n",
              "\n",
              "    .dataframe tbody tr th {\n",
              "        vertical-align: top;\n",
              "    }\n",
              "\n",
              "    .dataframe thead th {\n",
              "        text-align: right;\n",
              "    }\n",
              "</style>\n",
              "<table border=\"1\" class=\"dataframe\">\n",
              "  <thead>\n",
              "    <tr style=\"text-align: right;\">\n",
              "      <th></th>\n",
              "      <th>V1</th>\n",
              "      <th>V2</th>\n",
              "      <th>V3</th>\n",
              "      <th>V4</th>\n",
              "      <th>V5</th>\n",
              "      <th>V6</th>\n",
              "      <th>V7</th>\n",
              "      <th>V8</th>\n",
              "      <th>V9</th>\n",
              "      <th>V10</th>\n",
              "      <th>Class</th>\n",
              "    </tr>\n",
              "  </thead>\n",
              "  <tbody>\n",
              "    <tr>\n",
              "      <th>41369</th>\n",
              "      <td>1.341766</td>\n",
              "      <td>0.064070</td>\n",
              "      <td>-0.020255</td>\n",
              "      <td>-0.108298</td>\n",
              "      <td>-0.146895</td>\n",
              "      <td>-0.679384</td>\n",
              "      <td>0.041574</td>\n",
              "      <td>-0.186474</td>\n",
              "      <td>0.190224</td>\n",
              "      <td>-0.132543</td>\n",
              "      <td>0.0</td>\n",
              "    </tr>\n",
              "    <tr>\n",
              "      <th>41370</th>\n",
              "      <td>-1.075491</td>\n",
              "      <td>-0.437308</td>\n",
              "      <td>1.452632</td>\n",
              "      <td>-1.890234</td>\n",
              "      <td>-0.147365</td>\n",
              "      <td>-1.050495</td>\n",
              "      <td>0.232710</td>\n",
              "      <td>-0.063106</td>\n",
              "      <td>1.625540</td>\n",
              "      <td>-1.886182</td>\n",
              "      <td>0.0</td>\n",
              "    </tr>\n",
              "    <tr>\n",
              "      <th>41371</th>\n",
              "      <td>-0.222891</td>\n",
              "      <td>0.037430</td>\n",
              "      <td>0.470071</td>\n",
              "      <td>1.373821</td>\n",
              "      <td>1.953312</td>\n",
              "      <td>-1.680574</td>\n",
              "      <td>-0.328556</td>\n",
              "      <td>0.110676</td>\n",
              "      <td>-0.633314</td>\n",
              "      <td>0.658678</td>\n",
              "      <td>0.0</td>\n",
              "    </tr>\n",
              "    <tr>\n",
              "      <th>41372</th>\n",
              "      <td>-1.117972</td>\n",
              "      <td>0.091144</td>\n",
              "      <td>1.975912</td>\n",
              "      <td>0.496904</td>\n",
              "      <td>0.998723</td>\n",
              "      <td>0.106063</td>\n",
              "      <td>-0.175904</td>\n",
              "      <td>0.411996</td>\n",
              "      <td>-0.951737</td>\n",
              "      <td>-0.198503</td>\n",
              "      <td>0.0</td>\n",
              "    </tr>\n",
              "    <tr>\n",
              "      <th>41373</th>\n",
              "      <td>1.136674</td>\n",
              "      <td>0.212562</td>\n",
              "      <td>0.000000</td>\n",
              "      <td>0.000000</td>\n",
              "      <td>0.000000</td>\n",
              "      <td>0.000000</td>\n",
              "      <td>0.000000</td>\n",
              "      <td>0.000000</td>\n",
              "      <td>0.000000</td>\n",
              "      <td>0.000000</td>\n",
              "      <td>0.0</td>\n",
              "    </tr>\n",
              "  </tbody>\n",
              "</table>\n",
              "</div>\n",
              "      <button class=\"colab-df-convert\" onclick=\"convertToInteractive('df-af4a1425-bc52-4e79-a897-ee1a8e7e9950')\"\n",
              "              title=\"Convert this dataframe to an interactive table.\"\n",
              "              style=\"display:none;\">\n",
              "        \n",
              "  <svg xmlns=\"http://www.w3.org/2000/svg\" height=\"24px\"viewBox=\"0 0 24 24\"\n",
              "       width=\"24px\">\n",
              "    <path d=\"M0 0h24v24H0V0z\" fill=\"none\"/>\n",
              "    <path d=\"M18.56 5.44l.94 2.06.94-2.06 2.06-.94-2.06-.94-.94-2.06-.94 2.06-2.06.94zm-11 1L8.5 8.5l.94-2.06 2.06-.94-2.06-.94L8.5 2.5l-.94 2.06-2.06.94zm10 10l.94 2.06.94-2.06 2.06-.94-2.06-.94-.94-2.06-.94 2.06-2.06.94z\"/><path d=\"M17.41 7.96l-1.37-1.37c-.4-.4-.92-.59-1.43-.59-.52 0-1.04.2-1.43.59L10.3 9.45l-7.72 7.72c-.78.78-.78 2.05 0 2.83L4 21.41c.39.39.9.59 1.41.59.51 0 1.02-.2 1.41-.59l7.78-7.78 2.81-2.81c.8-.78.8-2.07 0-2.86zM5.41 20L4 18.59l7.72-7.72 1.47 1.35L5.41 20z\"/>\n",
              "  </svg>\n",
              "      </button>\n",
              "      \n",
              "  <style>\n",
              "    .colab-df-container {\n",
              "      display:flex;\n",
              "      flex-wrap:wrap;\n",
              "      gap: 12px;\n",
              "    }\n",
              "\n",
              "    .colab-df-convert {\n",
              "      background-color: #E8F0FE;\n",
              "      border: none;\n",
              "      border-radius: 50%;\n",
              "      cursor: pointer;\n",
              "      display: none;\n",
              "      fill: #1967D2;\n",
              "      height: 32px;\n",
              "      padding: 0 0 0 0;\n",
              "      width: 32px;\n",
              "    }\n",
              "\n",
              "    .colab-df-convert:hover {\n",
              "      background-color: #E2EBFA;\n",
              "      box-shadow: 0px 1px 2px rgba(60, 64, 67, 0.3), 0px 1px 3px 1px rgba(60, 64, 67, 0.15);\n",
              "      fill: #174EA6;\n",
              "    }\n",
              "\n",
              "    [theme=dark] .colab-df-convert {\n",
              "      background-color: #3B4455;\n",
              "      fill: #D2E3FC;\n",
              "    }\n",
              "\n",
              "    [theme=dark] .colab-df-convert:hover {\n",
              "      background-color: #434B5C;\n",
              "      box-shadow: 0px 1px 3px 1px rgba(0, 0, 0, 0.15);\n",
              "      filter: drop-shadow(0px 1px 2px rgba(0, 0, 0, 0.3));\n",
              "      fill: #FFFFFF;\n",
              "    }\n",
              "  </style>\n",
              "\n",
              "      <script>\n",
              "        const buttonEl =\n",
              "          document.querySelector('#df-af4a1425-bc52-4e79-a897-ee1a8e7e9950 button.colab-df-convert');\n",
              "        buttonEl.style.display =\n",
              "          google.colab.kernel.accessAllowed ? 'block' : 'none';\n",
              "\n",
              "        async function convertToInteractive(key) {\n",
              "          const element = document.querySelector('#df-af4a1425-bc52-4e79-a897-ee1a8e7e9950');\n",
              "          const dataTable =\n",
              "            await google.colab.kernel.invokeFunction('convertToInteractive',\n",
              "                                                     [key], {});\n",
              "          if (!dataTable) return;\n",
              "\n",
              "          const docLinkHtml = 'Like what you see? Visit the ' +\n",
              "            '<a target=\"_blank\" href=https://colab.research.google.com/notebooks/data_table.ipynb>data table notebook</a>'\n",
              "            + ' to learn more about interactive tables.';\n",
              "          element.innerHTML = '';\n",
              "          dataTable['output_type'] = 'display_data';\n",
              "          await google.colab.output.renderOutput(dataTable, element);\n",
              "          const docLink = document.createElement('div');\n",
              "          docLink.innerHTML = docLinkHtml;\n",
              "          element.appendChild(docLink);\n",
              "        }\n",
              "      </script>\n",
              "    </div>\n",
              "  </div>\n",
              "  "
            ]
          },
          "metadata": {},
          "execution_count": 24
        }
      ]
    },
    {
      "cell_type": "markdown",
      "source": [
        "***Checking the outliers whosse have been resolved in boxplot form using the seaborn function from sns library***\n",
        "\n",
        "***It can be seen that all columns have the majority of outliers that have been successfully resolved***"
      ],
      "metadata": {
        "id": "_Q9BCtpQZX6w"
      }
    },
    {
      "cell_type": "code",
      "source": [
        "sns.boxplot(x = \"value\",\n",
        "            y = \"variable\",\n",
        "            color = 'red',\n",
        "            orient = 'h',\n",
        "            data = pd.melt(dataset_new))\n",
        "plt.show()"
      ],
      "metadata": {
        "colab": {
          "base_uri": "https://localhost:8080/",
          "height": 279
        },
        "id": "RtAqrn3jUSXS",
        "outputId": "c959635d-aaed-44ba-8186-8f0508303b92"
      },
      "execution_count": null,
      "outputs": [
        {
          "output_type": "display_data",
          "data": {
            "text/plain": [
              "<Figure size 432x288 with 1 Axes>"
            ],
            "image/png": "[encoded data removed]"
          },
          "metadata": {
            "needs_background": "light"
          }
        }
      ]
    },
    {
      "cell_type": "markdown",
      "source": [
        "***Perform normalize the data using the MixMaxScaler method function from sklearn.preprocessing libray***"
      ],
      "metadata": {
        "id": "obYFhegXaDdV"
      }
    },
    {
      "cell_type": "markdown",
      "source": [
        "***Displaying independent variable (X) from the dataset***\n",
        "\n",
        "***It can be seen the value of independent variable (X) has a data spread that is in the minus range. Therefore, data normalization is needed with MixMaxScaler method***"
      ],
      "metadata": {
        "id": "56RGKGA7bF9M"
      }
    },
    {
      "cell_type": "code",
      "source": [
        "X = dataset.iloc[:,:-1].values\n",
        "print('X =')\n",
        "print(X)"
      ],
      "metadata": {
        "colab": {
          "base_uri": "https://localhost:8080/"
        },
        "id": "miPazQWVU-75",
        "outputId": "44224fff-d3d3-4229-ac97-2d65e9194b39"
      },
      "execution_count": null,
      "outputs": [
        {
          "output_type": "stream",
          "name": "stdout",
          "text": [
            "X =\n",
            "[[-1.35980713 -0.07278117  2.53634674 ...  0.0986979   0.36378697\n",
            "   0.09079417]\n",
            " [ 1.19185711  0.26615071  0.16648011 ...  0.08510165 -0.25542513\n",
            "  -0.16697441]\n",
            " [-1.35835406 -1.34016307  1.77320934 ...  0.24767579 -1.51465432\n",
            "   0.20764287]\n",
            " ...\n",
            " [-6.46528311 -8.15610582  0.47007148 ...  0.11067565 -0.63331439\n",
            "   0.65867849]\n",
            " [-1.11797183  0.09114439  1.97591238 ...  0.41199608 -0.95173734\n",
            "  -0.19850252]\n",
            " [ 1.13667441  0.212562    0.         ...  0.          0.\n",
            "   0.        ]]\n"
          ]
        }
      ]
    },
    {
      "cell_type": "markdown",
      "source": [
        "***Displaying dependent variable (Y) from the dataset***"
      ],
      "metadata": {
        "id": "NqrYQsHjbdXF"
      }
    },
    {
      "cell_type": "code",
      "source": [
        "Y = dataset.Class.values.astype(np.int64)\n",
        "print('Y =')\n",
        "print(Y)"
      ],
      "metadata": {
        "colab": {
          "base_uri": "https://localhost:8080/"
        },
        "id": "6i5AVro8VvU8",
        "outputId": "eb82a076-7ab7-4285-84ce-f815b80ae25e"
      },
      "execution_count": null,
      "outputs": [
        {
          "output_type": "stream",
          "name": "stdout",
          "text": [
            "Y =\n",
            "[0 0 0 ... 0 0 0]\n"
          ]
        }
      ]
    },
    {
      "cell_type": "markdown",
      "source": [
        "***Declare scaler variable to perform MixMaxScaler function from sklearn.preprocessing library by setting the feature_range so that the data spread is in the range values 0 and 1***"
      ],
      "metadata": {
        "id": "PuiqkkCIcAfX"
      }
    },
    {
      "cell_type": "code",
      "source": [
        "scaler = preprocessing.MinMaxScaler(feature_range = (0, 1))\n",
        "X = scaler.fit_transform(X)"
      ],
      "metadata": {
        "id": "ya_CqcDnV0Tk"
      },
      "execution_count": null,
      "outputs": []
    },
    {
      "cell_type": "markdown",
      "source": [
        "***Show the independent variable (X) which has been normalized by data using MinMaxScaler method***\n",
        "\n",
        "***It can be seen that the spread of data on the value of the independent variable (X) has become 0 to 1 which means shows that the data distribution is normal.***"
      ],
      "metadata": {
        "id": "5Xn1mKe6clkh"
      }
    },
    {
      "cell_type": "code",
      "source": [
        "print(X)"
      ],
      "metadata": {
        "colab": {
          "base_uri": "https://localhost:8080/"
        },
        "id": "PoslzEd7V2-1",
        "outputId": "94c02eac-4ceb-4d83-e738-038199ba45be"
      },
      "execution_count": null,
      "outputs": [
        {
          "output_type": "stream",
          "name": "stdout",
          "text": [
            "[[0.94311432 0.81229636 0.9555361  ... 0.67624243 0.42912624 0.53064657]\n",
            " [0.98683115 0.81608631 0.88822067 ... 0.67602132 0.39387962 0.5210528 ]\n",
            " [0.94313922 0.79812445 0.93385939 ... 0.67866515 0.32220213 0.53499551]\n",
            " ...\n",
            " [0.85564387 0.7219083  0.8968441  ... 0.67643722 0.37236952 0.55178239]\n",
            " [0.94725761 0.81412939 0.93961711 ... 0.68133737 0.35424433 0.51987937]\n",
            " [0.98588572 0.81548708 0.88349185 ... 0.67463738 0.40841886 0.52726734]]\n"
          ]
        }
      ]
    },
    {
      "cell_type": "markdown",
      "source": [
        "b. Pisahkan dataset menjadi train, test dan validation set dengan \n",
        "ketentuan (80 train, 10 val, 10 test)"
      ],
      "metadata": {
        "id": "iT8X1SpH7NXW"
      }
    },
    {
      "cell_type": "markdown",
      "source": [
        "***Splitting the dataset by splitting the data into X_train, X_test, Y_train, Y_test, X_valid, and Y_valid with total train_size = 80%, test_size = 10%, and validation_size = 10%. So that they both have a size of 10% then test_size is divided by 2 again by 0.5 so that the final result is 10%***"
      ],
      "metadata": {
        "id": "Y9pGPrDPdYFz"
      }
    },
    {
      "cell_type": "code",
      "source": [
        "X_train, X_test, Y_train, Y_test = train_test_split(X, Y, \n",
        "                                                    test_size = 0.2)\n",
        "X_test, X_valid, Y_test, Y_valid = train_test_split(X_test, \n",
        "                                                    Y_test, \n",
        "                                                    test_size = 0.5)"
      ],
      "metadata": {
        "id": "HIcut-rCV9aw"
      },
      "execution_count": null,
      "outputs": []
    },
    {
      "cell_type": "markdown",
      "source": [
        "***Show the results of splitting data which has been taken as 80% Train Set, 10% Test Set and  10% Validation Set from the dataset***"
      ],
      "metadata": {
        "id": "JnespOZadivz"
      }
    },
    {
      "cell_type": "code",
      "source": [
        "print ('Train Set      : ', X_train.shape, Y_train.shape)\n",
        "print ('Test Set       : ', X_test.shape, Y_test.shape)\n",
        "print ('Validation Set : ', X_valid.shape, Y_valid.shape)"
      ],
      "metadata": {
        "colab": {
          "base_uri": "https://localhost:8080/"
        },
        "id": "7ifA4CdnWRV7",
        "outputId": "b367e8c4-abea-41ff-f437-e6e327bb596c"
      },
      "execution_count": null,
      "outputs": [
        {
          "output_type": "stream",
          "name": "stdout",
          "text": [
            "Train Set      :  (33099, 10) (33099,)\n",
            "Test Set       :  (4137, 10) (4137,)\n",
            "Validation Set :  (4138, 10) (4138,)\n"
          ]
        }
      ]
    },
    {
      "cell_type": "markdown",
      "source": [
        "c. Buatlah arsitektur baseline dengan n nodes input layer, 2 buah \n",
        "hidden layer dengan banyak 𝟐 × 𝒏 nodes awal dan layer akhir banyak kelas nya\n",
        "(𝒏, 𝟐 × 𝒏, 𝟐 × 𝒏, 𝒏𝒖𝒎_𝒄𝒍𝒂𝒔𝒔). Activation function untuk tiap layer menggunakan ReLU.\n"
      ],
      "metadata": {
        "id": "h_-fanJK7POH"
      }
    },
    {
      "cell_type": "markdown",
      "source": [
        "***Import the required libraries to carry out model development and data training using Torch library from PyTorch which has a function to develop and train neural networks using dynamic computing so that it is suitable for complex calculations***"
      ],
      "metadata": {
        "id": "57WAjUioeVnj"
      }
    },
    {
      "cell_type": "code",
      "source": [
        "import torch\n",
        "import torch.nn as nn\n",
        "import torch.nn.functional as F\n",
        "from torch.autograd import Variable\n",
        "from torch.utils.data import Dataset\n",
        "from torch.utils.data import DataLoader"
      ],
      "metadata": {
        "id": "4-jvPOoAWeOH"
      },
      "execution_count": null,
      "outputs": []
    },
    {
      "cell_type": "markdown",
      "source": [
        "***Perform data conversion by converting data into tensor form so the data can be read by the Torch function from PyTorch***"
      ],
      "metadata": {
        "id": "Tuvjur5OeaCO"
      }
    },
    {
      "cell_type": "code",
      "source": [
        "class creditcard(Dataset):\n",
        "  \n",
        "  def __init__(self, X, Y):\n",
        "    self.X = X\n",
        "    self.Y = Y\n",
        "\n",
        "  def __getitem__(self, index):\n",
        "    X = torch.Tensor(self.X[index])\n",
        "    Y = torch.LongTensor(self.Y[index, None])\n",
        "    return X, Y\n",
        "\n",
        "  def __len__(self):\n",
        "    return len(self.X)"
      ],
      "metadata": {
        "id": "WYlZyXhrWinC"
      },
      "execution_count": null,
      "outputs": []
    },
    {
      "cell_type": "markdown",
      "source": [
        "***Declare train_ds and train_loader variables to perform the DataLoader module to load the shared data in batch form***"
      ],
      "metadata": {
        "id": "3kXt3XsAe_Ye"
      }
    },
    {
      "cell_type": "markdown",
      "source": [
        "***Delacre the batch_size variable for determining by using trial and error. It can be seen, the batch_size have 17 used, which means that the data to be taken is used for the first 17 samples and then trained until it is finished and then returns to take the next 17 samples. Then later iterations used depend on the number of batch sizes and training data.***"
      ],
      "metadata": {
        "id": "a5tsofkYfYU-"
      }
    },
    {
      "cell_type": "code",
      "source": [
        "train_ds = creditcard(X_train, Y_train)\n",
        "train_loader = DataLoader(train_ds, batch_size = 17, \n",
        "                             shuffle = False, num_workers = 0)"
      ],
      "metadata": {
        "id": "UYHphcXnWt6W"
      },
      "execution_count": null,
      "outputs": []
    },
    {
      "cell_type": "markdown",
      "source": [
        "***Declare valid_ds and valid_loader to validate the DataLoader module to load the shared data in batch form***"
      ],
      "metadata": {
        "id": "gwEwlo-kfyJ3"
      }
    },
    {
      "cell_type": "code",
      "source": [
        "valid_ds = creditcard(X_valid, Y_valid)\n",
        "valid_loader = DataLoader(valid_ds, batch_size = 17, \n",
        "                             shuffle = False, num_workers = 0)"
      ],
      "metadata": {
        "id": "oJIZy165W0LD"
      },
      "execution_count": null,
      "outputs": []
    },
    {
      "cell_type": "markdown",
      "source": [
        "Declare test_ds and test_loader to accomodate the results of the DataLoader module to load the shared data in batch form"
      ],
      "metadata": {
        "id": "zCR5sIKngDbM"
      }
    },
    {
      "cell_type": "code",
      "source": [
        "test_ds = creditcard(X_test, Y_test)\n",
        "test_loader = DataLoader(test_ds, batch_size = 17, \n",
        "                            shuffle = False, num_workers = 0)"
      ],
      "metadata": {
        "id": "sGI73M8eW1vR"
      },
      "execution_count": null,
      "outputs": []
    },
    {
      "cell_type": "markdown",
      "source": [
        "***Creating baseline architecture according to the problem which n nodes input layer, 2 hidden layers with many 𝟐 × nodes at the beginning and the end layer having many classes (𝒏, × , × , _𝒄𝒍𝒂𝒔𝒔).***"
      ],
      "metadata": {
        "id": "Quxt9esDgJiE"
      }
    },
    {
      "cell_type": "markdown",
      "source": [
        "***The first step is to convert the input data to linear. Then the input layer itself will have a number of 10 according to the number of independent variables. Then the output will use the 2 x n formula in accordance with the desired question which means (2x10) which is as many as 20 of the 2 hidden layers. The output features produced later are 2.***\n",
        "\n",
        "***The second step is to create an Activation function for each layer using ReLU. At this stage, a ReLU layer is created which changes every negative to 0. So, each independent variable that has a value of 0 or more will enter the ReLU layer.***\n",
        "\n",
        "***The ;ast step after creating the ReLU layer, proceed with normalizing between layers of the Neural Network using batch normalization. The goal is that later there will be no overfitting which causes the training to be successful but the validation is not appropriate.***"
      ],
      "metadata": {
        "id": "xEIGAL-rgiwk"
      }
    },
    {
      "cell_type": "code",
      "source": [
        "class Net(nn.Module):\n",
        "    \n",
        "    def __init__(self):\n",
        "        super(Net, self).__init__()\n",
        "        self.fc1 = nn.Linear(10, 20)\n",
        "        self.fc2 = nn.Linear(20, 20)\n",
        "        self.fc3 = nn.Linear(20, 20)\n",
        "        self.fc4 = nn.Linear(20, 2) \n",
        "        self.bn1 = nn.BatchNorm1d(20)\n",
        "        self.bn2 = nn.BatchNorm1d(20)\n",
        "        self.bn3 = nn.BatchNorm1d(20)\n",
        "\n",
        "    def forward(self, X):\n",
        "        X = self.fc1(X)\n",
        "        X = F.relu(X)\n",
        "        X = self.bn1(X)\n",
        "        X = self.fc2(X)\n",
        "        X = F.relu(X)\n",
        "        X = self.bn2(X)\n",
        "        X = self.fc3(X)\n",
        "        X = F.relu(X)\n",
        "        X = self.bn3(X)\n",
        "        X = self.fc4(X)\n",
        "        return X"
      ],
      "metadata": {
        "id": "QpPMkxVbW7Rq"
      },
      "execution_count": null,
      "outputs": []
    },
    {
      "cell_type": "markdown",
      "source": [
        "***Declare net variable that have Net function then declare criterion variable to determining the Loss function using CrossEntropyLoss function because the loss function can measure performance for models that have an output probability between 0 and 1 and optimizer variable to determining the Optimizer function for optimize the data using Adam Optimizer function because it combines the best properties of the AdaGrad and RMSProp algorithms***"
      ],
      "metadata": {
        "id": "_PVxALHggzAS"
      }
    },
    {
      "cell_type": "code",
      "source": [
        "net = Net()\n",
        "criterion = nn.CrossEntropyLoss()\n",
        "optimizer = torch.optim.Adam(net.parameters(), lr = 0.001)"
      ],
      "metadata": {
        "id": "kW3a9TrQXEJC"
      },
      "execution_count": null,
      "outputs": []
    },
    {
      "cell_type": "markdown",
      "source": [
        "***Define the epoch where using 25 so the process doesn't take a long time and start to perform training data***"
      ],
      "metadata": {
        "id": "2FwKHc9riNpr"
      }
    },
    {
      "cell_type": "code",
      "source": [
        "epochs = 25\n",
        " \n",
        "train_mean_losses = []\n",
        "valid_mean_losses = []\n",
        "valid_best_loss = np.inf\n",
        "\n",
        "for i in range(epochs):  \n",
        "    train_losses = []\n",
        "    print(\"================================\")\n",
        "    print(\"Epoch {}\".format(i))\n",
        "    \n",
        "    for iteration, batch_data in enumerate(train_loader):\n",
        "        X_batch, Y_batch = batch_data\n",
        "        optimizer.zero_grad()\n",
        "        out = net(X_batch)\n",
        "        loss = criterion(out, torch.squeeze (Y_batch))\n",
        "        loss.backward()\n",
        "        optimizer.step()\n",
        "        train_losses.append(loss)\n",
        "\n",
        "    train_mean_loss = torch.mean(torch.stack(train_losses))\n",
        "    print('Training Loss : {:10.8f}'.format(train_mean_loss))\n",
        "    train_mean_losses.append(train_mean_loss)\n",
        "\n",
        "    valid_losses = []\n",
        "    with torch.set_grad_enabled(False):\n",
        "\n",
        "        for iteration, batch_data in enumerate(valid_loader):\n",
        "            X_batch, Y_batch = batch_data\n",
        "            out = net(X_batch)\n",
        "            loss = criterion(out, torch.squeeze (Y_batch))\n",
        "            valid_losses.append(loss)\n",
        "            \n",
        "        valid_mean_loss = torch.mean(torch.stack(valid_losses))\n",
        "        print('Validation Loss : {:10.8f}'.format(valid_mean_loss))\n",
        "        valid_mean_losses.append(valid_mean_loss)\n",
        "        \n",
        "        if valid_mean_loss.cpu().numpy()[()] < valid_best_loss:\n",
        "            valid_best_loss = valid_mean_loss\n",
        "            torch.save(net.state_dict(), \"best_model.pth\")\n",
        "            best_epoch = i"
      ],
      "metadata": {
        "colab": {
          "base_uri": "https://localhost:8080/"
        },
        "id": "FAqSKN9AXK8k",
        "outputId": "ffa1780d-d80f-4c66-f02e-8ced07572496"
      },
      "execution_count": null,
      "outputs": [
        {
          "output_type": "stream",
          "name": "stdout",
          "text": [
            "================================\n",
            "Epoch 0\n",
            "Training Loss : 0.06829467\n",
            "Validation Loss : 0.00726914\n",
            "================================\n",
            "Epoch 1\n",
            "Training Loss : 0.00610389\n",
            "Validation Loss : 0.00613264\n",
            "================================\n",
            "Epoch 2\n",
            "Training Loss : 0.00534201\n",
            "Validation Loss : 0.00564309\n",
            "================================\n",
            "Epoch 3\n",
            "Training Loss : 0.00484999\n",
            "Validation Loss : 0.00541874\n",
            "================================\n",
            "Epoch 4\n",
            "Training Loss : 0.00478278\n",
            "Validation Loss : 0.00853843\n",
            "================================\n",
            "Epoch 5\n",
            "Training Loss : 0.00522418\n",
            "Validation Loss : 0.00589168\n",
            "================================\n",
            "Epoch 6\n",
            "Training Loss : 0.00468371\n",
            "Validation Loss : 0.00774857\n",
            "================================\n",
            "Epoch 7\n",
            "Training Loss : 0.00423856\n",
            "Validation Loss : 0.00660031\n",
            "================================\n",
            "Epoch 8\n",
            "Training Loss : 0.00383821\n",
            "Validation Loss : 0.00636767\n",
            "================================\n",
            "Epoch 9\n",
            "Training Loss : 0.00367120\n",
            "Validation Loss : 0.00551447\n",
            "================================\n",
            "Epoch 10\n",
            "Training Loss : 0.00336469\n",
            "Validation Loss : 0.00789617\n",
            "================================\n",
            "Epoch 11\n",
            "Training Loss : 0.00333596\n",
            "Validation Loss : 0.00581444\n",
            "================================\n",
            "Epoch 12\n",
            "Training Loss : 0.00305404\n",
            "Validation Loss : 0.00819969\n",
            "================================\n",
            "Epoch 13\n",
            "Training Loss : 0.00292937\n",
            "Validation Loss : 0.00533095\n",
            "================================\n",
            "Epoch 14\n",
            "Training Loss : 0.00257880\n",
            "Validation Loss : 0.00720953\n",
            "================================\n",
            "Epoch 15\n",
            "Training Loss : 0.00291903\n",
            "Validation Loss : 0.00571937\n",
            "================================\n",
            "Epoch 16\n",
            "Training Loss : 0.00233880\n",
            "Validation Loss : 0.00437783\n",
            "================================\n",
            "Epoch 17\n",
            "Training Loss : 0.00219626\n",
            "Validation Loss : 0.00413297\n",
            "================================\n",
            "Epoch 18\n",
            "Training Loss : 0.00249020\n",
            "Validation Loss : 0.00575450\n",
            "================================\n",
            "Epoch 19\n",
            "Training Loss : 0.00227238\n",
            "Validation Loss : 0.00760153\n",
            "================================\n",
            "Epoch 20\n",
            "Training Loss : 0.00202323\n",
            "Validation Loss : 0.00371756\n",
            "================================\n",
            "Epoch 21\n",
            "Training Loss : 0.00172902\n",
            "Validation Loss : 0.00540489\n",
            "================================\n",
            "Epoch 22\n",
            "Training Loss : 0.00154299\n",
            "Validation Loss : 0.00401330\n",
            "================================\n",
            "Epoch 23\n",
            "Training Loss : 0.00187736\n",
            "Validation Loss : 0.00664020\n",
            "================================\n",
            "Epoch 24\n",
            "Training Loss : 0.00214408\n",
            "Validation Loss : 0.00454190\n"
          ]
        }
      ]
    },
    {
      "cell_type": "markdown",
      "source": [
        "***Show the results of Epoch and Loss in graphic form using plot function from matplotlib library***"
      ],
      "metadata": {
        "id": "uxaYboegiqQl"
      }
    },
    {
      "cell_type": "code",
      "source": [
        "plt.plot(range(1, epochs + 1),\n",
        "         torch.tensor(train_mean_losses).detach().numpy())\n",
        "plt.plot(range(1, epochs + 1), \n",
        "         torch.tensor(valid_mean_losses).detach().numpy())\n",
        "plt.xlabel('Epochs')\n",
        "plt.ylabel('Loss')\n",
        "plt.show()"
      ],
      "metadata": {
        "colab": {
          "base_uri": "https://localhost:8080/",
          "height": 279
        },
        "id": "9UlBM9JTXeRi",
        "outputId": "fc156b10-1b76-465b-c7a9-348177503c7e"
      },
      "execution_count": null,
      "outputs": [
        {
          "output_type": "display_data",
          "data": {
            "text/plain": [
              "<Figure size 432x288 with 1 Axes>"
            ],
            "image/png": "[encoded data removed]"
          },
          "metadata": {
            "needs_background": "light"
          }
        }
      ]
    },
    {
      "cell_type": "markdown",
      "source": [
        "d. Setelah mengetahui hasil dari nomor (1c), perbaiki arsitektur pada \n",
        "nomor 1c untuk mendapatkan nilai akurasi maksimal yang kalian dapatkan (kalian dapat menambahkan atau mengurangi architecture, atau mengganti hyperparameter, atau menggunakan tuning pada hyperparameter). Jelaskan alasan kalian untuk menggunakan pendekatan yang kalian pilih."
      ],
      "metadata": {
        "id": "kyIOc-dZ7PTj"
      }
    },
    {
      "cell_type": "markdown",
      "source": [
        "***Perform the improvement by adding the output features to 2 with output 20 from 2 hidden layers and adding layers to 5 layers***"
      ],
      "metadata": {
        "id": "kq-CiWWSi8jy"
      }
    },
    {
      "cell_type": "markdown",
      "source": [
        "***The next step is to create an Activation function for each layer using ReLU. At this stage, a ReLU layer is created which changes every negative to 0. So, each independent variable that has a value of 0 or more will enter the ReLU layer.***\n",
        "\n",
        "***The last step after creating the ReLU layer, proceed with normalizing between layers of the Neural Network using batch normalization. The goal is that later there will be no overfitting which causes the training to be successful but the validation is not appropriate.***"
      ],
      "metadata": {
        "id": "CHE9BhbXjr8m"
      }
    },
    {
      "cell_type": "code",
      "source": [
        "class Net(nn.Module):\n",
        "\n",
        "    def __init__(self):\n",
        "        super(Net, self).__init__()\n",
        "        self.fc1 = nn.Linear(10, 20)\n",
        "        self.fc2 = nn.Linear(20, 20)\n",
        "        self.fc3 = nn.Linear(20, 20)\n",
        "        self.fc4 = nn.Linear(20, 20)\n",
        "        self.fc5 = nn.Linear(20, 2)\n",
        "        self.bn1 = nn.BatchNorm1d(20)\n",
        "        self.bn2 = nn.BatchNorm1d(20)\n",
        "        self.bn3 = nn.BatchNorm1d(20)\n",
        "        self.bn4 = nn.BatchNorm1d(20)\n",
        "\n",
        "    def forward(self, X):\n",
        "        X = self.fc1(X)\n",
        "        X = F.relu(X)\n",
        "        X = self.bn1(X)\n",
        "        X = self.fc2(X)\n",
        "        X = F.relu(X)\n",
        "        X = self.bn2(X)\n",
        "        X = self.fc3(X)\n",
        "        X = F.relu(X)\n",
        "        X = self.bn3(X)\n",
        "        X = self.fc4(X)\n",
        "        X = self.bn4(X)\n",
        "        X = self.fc5(X)\n",
        "        return X"
      ],
      "metadata": {
        "id": "1UpHA5sjZWlB"
      },
      "execution_count": null,
      "outputs": []
    },
    {
      "cell_type": "markdown",
      "source": [
        "***Declare net2 variable that have Net function then declare criterion variable to determining the Loss function using CrossEntropyLoss function because the loss function can measure performance for models that have an output probability between 0 and 1 and optimizer variable to determining the Optimizer function for optimize the data using SGD Optimizer function because can generalize better than other optimizers so in the end performance becomes better by updating the parameter at each time step t***"
      ],
      "metadata": {
        "id": "TAEI1YULj8kw"
      }
    },
    {
      "cell_type": "code",
      "source": [
        "net2 = Net()\n",
        "criterion = nn.CrossEntropyLoss()\n",
        "optimizer = torch.optim.SGD(net2.parameters(), lr = 0.01)"
      ],
      "metadata": {
        "id": "tJJeigJIZkhY"
      },
      "execution_count": null,
      "outputs": []
    },
    {
      "cell_type": "markdown",
      "source": [
        "***Define the epoch where using 20 so the process doesn't take a long time and start to perform training data***"
      ],
      "metadata": {
        "id": "8H_U3c4NkosY"
      }
    },
    {
      "cell_type": "code",
      "source": [
        "epochs = 20\n",
        " \n",
        "train_mean_losses = []\n",
        "valid_mean_losses = []\n",
        "valid_best_loss = np.inf\n",
        "\n",
        "for i in range(epochs):\n",
        "    train_losses2 = []\n",
        "    print(\"================================\")\n",
        "    print(\"Epoch {}\".format(i))\n",
        "    \n",
        "    for iteration, batch_data in enumerate(train_loader):\n",
        "        X_batch, Y_batch = batch_data\n",
        "        optimizer.zero_grad()\n",
        "        out = net2(X_batch)\n",
        "        loss = criterion(out, torch.squeeze (Y_batch))\n",
        "        loss.backward()\n",
        "        optimizer.step()\n",
        "        train_losses2.append(loss)\n",
        "    \n",
        "    train_mean_loss = torch.mean(torch.stack(train_losses2))\n",
        "    print('training loss: {:10.8f}'.format(train_mean_loss))\n",
        "    train_mean_losses.append(train_mean_loss)\n",
        "    \n",
        "    valid_losses2 = []\n",
        "    with torch.set_grad_enabled(False):\n",
        "\n",
        "        for iteration, batch_data in enumerate(valid_loader):\n",
        "            X_batch, Y_batch = batch_data\n",
        "            out = net2(X_batch)\n",
        "            loss = criterion(out, torch.squeeze (Y_batch))\n",
        "            valid_losses2.append(loss)\n",
        "            \n",
        "        valid_mean_loss = torch.mean(torch.stack(valid_losses2))\n",
        "        print('validation Loss : {:10.8f}'.format(valid_mean_loss))\n",
        "        valid_mean_losses.append(valid_mean_loss)\n",
        "        \n",
        "        if valid_mean_loss.cpu().numpy()[()] < valid_best_loss:\n",
        "            valid_best_loss = valid_mean_loss\n",
        "            torch.save(net2.state_dict(), \"best_model2.pth\")\n",
        "            best_epoch = i"
      ],
      "metadata": {
        "colab": {
          "base_uri": "https://localhost:8080/"
        },
        "id": "lwx8XYl2ZpvH",
        "outputId": "d2f79295-d8d4-4c38-d914-17cdc512ea6d"
      },
      "execution_count": null,
      "outputs": [
        {
          "output_type": "stream",
          "name": "stdout",
          "text": [
            "================================\n",
            "Epoch 0\n",
            "training loss: 0.07827875\n",
            "validation Loss : 0.01543591\n",
            "================================\n",
            "Epoch 1\n",
            "training loss: 0.01084116\n",
            "validation Loss : 0.00890127\n",
            "================================\n",
            "Epoch 2\n",
            "training loss: 0.00729251\n",
            "validation Loss : 0.00690283\n",
            "================================\n",
            "Epoch 3\n",
            "training loss: 0.00590614\n",
            "validation Loss : 0.00651696\n",
            "================================\n",
            "Epoch 4\n",
            "training loss: 0.00513275\n",
            "validation Loss : 0.00628215\n",
            "================================\n",
            "Epoch 5\n",
            "training loss: 0.00465584\n",
            "validation Loss : 0.00632620\n",
            "================================\n",
            "Epoch 6\n",
            "training loss: 0.00423699\n",
            "validation Loss : 0.00612419\n",
            "================================\n",
            "Epoch 7\n",
            "training loss: 0.00390893\n",
            "validation Loss : 0.00617274\n",
            "================================\n",
            "Epoch 8\n",
            "training loss: 0.00374411\n",
            "validation Loss : 0.00621902\n",
            "================================\n",
            "Epoch 9\n",
            "training loss: 0.00384037\n",
            "validation Loss : 0.00629751\n",
            "================================\n",
            "Epoch 10\n",
            "training loss: 0.00363216\n",
            "validation Loss : 0.00492707\n",
            "================================\n",
            "Epoch 11\n",
            "training loss: 0.00316742\n",
            "validation Loss : 0.00561027\n",
            "================================\n",
            "Epoch 12\n",
            "training loss: 0.00284821\n",
            "validation Loss : 0.00496964\n",
            "================================\n",
            "Epoch 13\n",
            "training loss: 0.00267342\n",
            "validation Loss : 0.00478384\n",
            "================================\n",
            "Epoch 14\n",
            "training loss: 0.00248666\n",
            "validation Loss : 0.00475576\n",
            "================================\n",
            "Epoch 15\n",
            "training loss: 0.00232436\n",
            "validation Loss : 0.00435897\n",
            "================================\n",
            "Epoch 16\n",
            "training loss: 0.00220024\n",
            "validation Loss : 0.00507898\n",
            "================================\n",
            "Epoch 17\n",
            "training loss: 0.00254306\n",
            "validation Loss : 0.00620851\n",
            "================================\n",
            "Epoch 18\n",
            "training loss: 0.00211443\n",
            "validation Loss : 0.00553284\n",
            "================================\n",
            "Epoch 19\n",
            "training loss: 0.00271076\n",
            "validation Loss : 0.00422718\n"
          ]
        }
      ]
    },
    {
      "cell_type": "markdown",
      "source": [
        "***Show the results of Epoch and Loss in graphic form using plot function from matplotlib library***"
      ],
      "metadata": {
        "id": "RjcIVv0dkzAA"
      }
    },
    {
      "cell_type": "code",
      "source": [
        "plt.plot(range(1, epochs + 1),\n",
        "         torch.tensor(train_mean_losses).detach().numpy())\n",
        "plt.plot(range(1, epochs + 1),\n",
        "         torch.tensor(valid_mean_losses).detach().numpy())\n",
        "plt.xlabel('Epochs')\n",
        "plt.ylabel('Loss')\n",
        "plt.show()"
      ],
      "metadata": {
        "colab": {
          "base_uri": "https://localhost:8080/",
          "height": 279
        },
        "id": "udPc7EDJao8y",
        "outputId": "7fddcf29-6989-4bef-adf7-449f9b684efc"
      },
      "execution_count": null,
      "outputs": [
        {
          "output_type": "display_data",
          "data": {
            "text/plain": [
              "<Figure size 432x288 with 1 Axes>"
            ],
            "image/png": "[encoded data removed]"
          },
          "metadata": {
            "needs_background": "light"
          }
        }
      ]
    },
    {
      "cell_type": "markdown",
      "source": [
        "e. Analisis performa dari test set dengan mencari nilai accuracy, \n",
        "precision, recall dan F1-Score"
      ],
      "metadata": {
        "id": "CxMFOvs37YqM"
      }
    },
    {
      "cell_type": "markdown",
      "source": [
        "***Import the required library to Find Accuracy, Precision, Recall and F1-Score Values from sklearn.metrics libray***"
      ],
      "metadata": {
        "id": "MoORD8iKk6Xq"
      }
    },
    {
      "cell_type": "code",
      "source": [
        "from sklearn.metrics import confusion_matrix\n",
        "from sklearn.metrics import accuracy_score\n",
        "from sklearn.metrics import f1_score\n",
        "from sklearn.metrics import classification_report"
      ],
      "metadata": {
        "id": "dcNvt82AayT0"
      },
      "execution_count": null,
      "outputs": []
    },
    {
      "cell_type": "markdown",
      "source": [
        "***Perform load model to calculate the results of accuracy, precision, recall, and f1-score values using load_state_dict function to match the model data with best_model.pth***"
      ],
      "metadata": {
        "id": "K2RRnKnQlKf7"
      }
    },
    {
      "cell_type": "code",
      "source": [
        "net.load_state_dict(torch.load(\"best_model.pth\"))"
      ],
      "metadata": {
        "colab": {
          "base_uri": "https://localhost:8080/"
        },
        "id": "TiJKe_b1a0Mh",
        "outputId": "2d1218fa-a497-46ab-d9e3-328063973e40"
      },
      "execution_count": null,
      "outputs": [
        {
          "output_type": "execute_result",
          "data": {
            "text/plain": [
              "<All keys matched successfully>"
            ]
          },
          "metadata": {},
          "execution_count": 46
        }
      ]
    },
    {
      "cell_type": "markdown",
      "source": [
        "***Perform the calculation using confusion matrix. Where at the initial stage, a test prediction is calculated between 0 and 2 because the first model output features is 2. Then looping is used to check between batch x and batch y. This check aims to find out how much the output of the predicted class and ground truth is.***"
      ],
      "metadata": {
        "id": "71i-IPohljbj"
      }
    },
    {
      "cell_type": "code",
      "source": [
        "test_predictions = np.empty((0,2))\n",
        "\n",
        "with torch.no_grad():\n",
        "\n",
        "    for iteration, batch_data in enumerate(test_loader):\n",
        "        X_batch, Y_batch = batch_data        \n",
        "        out = net(X_batch)\n",
        "        test_predictions = np.append(test_predictions, out.numpy(), axis = 0)\n",
        "        \n",
        "test_predictions = np.array(test_predictions)\n",
        "test_predictions = np.argmax(np.array(test_predictions), axis = 1)"
      ],
      "metadata": {
        "id": "QeT6cIBDa2c9"
      },
      "execution_count": null,
      "outputs": []
    },
    {
      "cell_type": "markdown",
      "source": [
        "***Show the result of Predicted Class using test_predictions variable***"
      ],
      "metadata": {
        "id": "0N0BWPbgl52J"
      }
    },
    {
      "cell_type": "code",
      "source": [
        "print(\"================================\")\n",
        "print(\"Predicted Class : \")\n",
        "print(test_predictions)"
      ],
      "metadata": {
        "colab": {
          "base_uri": "https://localhost:8080/"
        },
        "id": "Se3-KCtfbAKd",
        "outputId": "ebe97925-4824-4630-ac86-87f1d8fbc20c"
      },
      "execution_count": null,
      "outputs": [
        {
          "output_type": "stream",
          "name": "stdout",
          "text": [
            "================================\n",
            "Predicted Class : \n",
            "[0 0 0 ... 0 0 0]\n"
          ]
        }
      ]
    },
    {
      "cell_type": "markdown",
      "source": [
        "***Show the result of Ground Truth using Y_test variable***"
      ],
      "metadata": {
        "id": "TUFQ5vESmIg7"
      }
    },
    {
      "cell_type": "code",
      "source": [
        "print(\"================================\")\n",
        "print(\"Ground Truth : \")\n",
        "print(Y_test)"
      ],
      "metadata": {
        "colab": {
          "base_uri": "https://localhost:8080/"
        },
        "id": "Es_Ij81rbG3j",
        "outputId": "95a2ab6d-e6c0-41c0-cf69-161bda977694"
      },
      "execution_count": null,
      "outputs": [
        {
          "output_type": "stream",
          "name": "stdout",
          "text": [
            "================================\n",
            "Ground Truth : \n",
            "[0 0 0 ... 0 0 0]\n"
          ]
        }
      ]
    },
    {
      "cell_type": "markdown",
      "source": [
        "***Show the result of Confussion Matrix using Y_test and test_predictions variables***"
      ],
      "metadata": {
        "id": "r6jrVJIMmckq"
      }
    },
    {
      "cell_type": "code",
      "source": [
        "print(\"================================\")\n",
        "print(\"Confussion Matrix : \")\n",
        "print(confusion_matrix(Y_test, test_predictions))"
      ],
      "metadata": {
        "colab": {
          "base_uri": "https://localhost:8080/"
        },
        "id": "88uP7cb6bI7V",
        "outputId": "e7b845ac-bfd5-4160-d629-3315c82183ad"
      },
      "execution_count": null,
      "outputs": [
        {
          "output_type": "stream",
          "name": "stdout",
          "text": [
            "================================\n",
            "Confussion Matrix : \n",
            "[[4125    1]\n",
            " [   3    8]]\n"
          ]
        }
      ]
    },
    {
      "cell_type": "markdown",
      "source": [
        "***Show the result of Accuration using the calculation of accuracy variable***"
      ],
      "metadata": {
        "id": "hJPfjKUEm-Mx"
      }
    },
    {
      "cell_type": "code",
      "source": [
        "print(\"================================\")\n",
        "accuracy = accuracy_score(Y_test, test_predictions)\n",
        "print(\"Accuration : {}\".format(accuracy))"
      ],
      "metadata": {
        "colab": {
          "base_uri": "https://localhost:8080/"
        },
        "id": "yFgD-siobTyh",
        "outputId": "90ac617f-5130-4f74-c6a0-ed3f95330763"
      },
      "execution_count": null,
      "outputs": [
        {
          "output_type": "stream",
          "name": "stdout",
          "text": [
            "================================\n",
            "Accuration : 0.9990331157843848\n"
          ]
        }
      ]
    },
    {
      "cell_type": "markdown",
      "source": [
        "***Show the result of F1 Score using the calculation of f1 variable***"
      ],
      "metadata": {
        "id": "3W_imyJgnJJX"
      }
    },
    {
      "cell_type": "code",
      "source": [
        "print(\"================================\")\n",
        "f1 = f1_score(Y_test, test_predictions, average = 'macro')\n",
        "print(\"F1 Score : \", f1)"
      ],
      "metadata": {
        "colab": {
          "base_uri": "https://localhost:8080/"
        },
        "id": "QS5XaL3GbbV2",
        "outputId": "12092c6c-02e8-4d02-f3d4-f770af736e9d"
      },
      "execution_count": null,
      "outputs": [
        {
          "output_type": "stream",
          "name": "stdout",
          "text": [
            "================================\n",
            "F1 Score :  0.8997576932396414\n"
          ]
        }
      ]
    },
    {
      "cell_type": "markdown",
      "source": [
        "***Show the result of Classification Report using Y_test and test_predictions variables***"
      ],
      "metadata": {
        "id": "sSoJSUrznRzM"
      }
    },
    {
      "cell_type": "code",
      "source": [
        "print(\"================================\")\n",
        "print(\"Classification Report : \")\n",
        "print(classification_report(Y_test, test_predictions))"
      ],
      "metadata": {
        "colab": {
          "base_uri": "https://localhost:8080/"
        },
        "id": "n1nPYIy8bbqi",
        "outputId": "3401aac8-e0ec-4cc5-c5d4-fe5dcee2a70c"
      },
      "execution_count": null,
      "outputs": [
        {
          "output_type": "stream",
          "name": "stdout",
          "text": [
            "================================\n",
            "Classification Report : \n",
            "              precision    recall  f1-score   support\n",
            "\n",
            "           0       1.00      1.00      1.00      4126\n",
            "           1       0.89      0.73      0.80        11\n",
            "\n",
            "    accuracy                           1.00      4137\n",
            "   macro avg       0.94      0.86      0.90      4137\n",
            "weighted avg       1.00      1.00      1.00      4137\n",
            "\n"
          ]
        }
      ]
    },
    {
      "cell_type": "markdown",
      "source": [
        "***Perform the second load model to calculate the results of accuracy, precision, recall, and f1-score values using load_state_dict function to match the model data with best_model2.pth***"
      ],
      "metadata": {
        "id": "9GZ8BPhkncad"
      }
    },
    {
      "cell_type": "code",
      "source": [
        "net2.load_state_dict(torch.load(\"best_model2.pth\"))"
      ],
      "metadata": {
        "colab": {
          "base_uri": "https://localhost:8080/"
        },
        "id": "MtCrjlFMbqEN",
        "outputId": "55a58f07-4abe-4fa6-d9c9-e94fa29337ac"
      },
      "execution_count": null,
      "outputs": [
        {
          "output_type": "execute_result",
          "data": {
            "text/plain": [
              "<All keys matched successfully>"
            ]
          },
          "metadata": {},
          "execution_count": 54
        }
      ]
    },
    {
      "cell_type": "markdown",
      "source": [
        "***Perform the calculation using confusion matrix. Where at the initial stage, the test prediction calculation is carried out between 0 and 3 because the first model output features is 3. Then looping is used to check between batch x and batch y. This check aims to find out how much the output of the predicted class and ground truth is.***"
      ],
      "metadata": {
        "id": "XtGlJ7h-n3u3"
      }
    },
    {
      "cell_type": "code",
      "source": [
        "test_predictions = np.empty((0,2))\n",
        "\n",
        "with torch.no_grad():\n",
        "\n",
        "    for iteration, batchdata in enumerate(test_loader):\n",
        "        X_batch, Y_batch = batchdata        \n",
        "        out = net2(X_batch)\n",
        "        test_predictions = np.append(test_predictions, out.numpy(), axis = 0)\n",
        "        \n",
        "test_predictions = np.array(test_predictions)\n",
        "test_predictions = np.argmax(np.array(test_predictions), axis = 1)"
      ],
      "metadata": {
        "id": "v_MzQ9jZbtBF"
      },
      "execution_count": null,
      "outputs": []
    },
    {
      "cell_type": "markdown",
      "source": [
        "***Show the second result of Predicted Class using test_predictions variable***"
      ],
      "metadata": {
        "id": "YQGIIdEMn8U0"
      }
    },
    {
      "cell_type": "code",
      "source": [
        "print(\"================================\")\n",
        "print(\"Predicted Class : \")\n",
        "print(test_predictions)"
      ],
      "metadata": {
        "colab": {
          "base_uri": "https://localhost:8080/"
        },
        "id": "X8OIwSh2b1QM",
        "outputId": "784cef47-58cf-4f2c-905b-097571ab0759"
      },
      "execution_count": null,
      "outputs": [
        {
          "output_type": "stream",
          "name": "stdout",
          "text": [
            "================================\n",
            "Predicted Class : \n",
            "[0 0 0 ... 0 0 0]\n"
          ]
        }
      ]
    },
    {
      "cell_type": "markdown",
      "source": [
        "***Show the second result of Ground Truth using Y_test variable***"
      ],
      "metadata": {
        "id": "0gi8vKLgoCL5"
      }
    },
    {
      "cell_type": "code",
      "source": [
        "print(\"================================\")\n",
        "print(\"Ground Truth:\")\n",
        "print(Y_test)"
      ],
      "metadata": {
        "colab": {
          "base_uri": "https://localhost:8080/"
        },
        "id": "kPsniRv9b1iz",
        "outputId": "47a6bcbe-403b-4a4e-9d3b-8de29ee61ce2"
      },
      "execution_count": null,
      "outputs": [
        {
          "output_type": "stream",
          "name": "stdout",
          "text": [
            "================================\n",
            "Ground Truth:\n",
            "[0 0 0 ... 0 0 0]\n"
          ]
        }
      ]
    },
    {
      "cell_type": "markdown",
      "source": [
        "***Show the second result of Confussion Matrix using Y_test and test_predictions variables***"
      ],
      "metadata": {
        "id": "QtxX8HHAoI-N"
      }
    },
    {
      "cell_type": "code",
      "source": [
        "print(\"================================\")\n",
        "print(\"Confussion Matrix : \")\n",
        "print(confusion_matrix(Y_test, test_predictions))"
      ],
      "metadata": {
        "colab": {
          "base_uri": "https://localhost:8080/"
        },
        "id": "V2eia4z9b1tR",
        "outputId": "32f763a8-9a92-4772-f411-4e038e34a509"
      },
      "execution_count": null,
      "outputs": [
        {
          "output_type": "stream",
          "name": "stdout",
          "text": [
            "================================\n",
            "Confussion Matrix : \n",
            "[[4124    2]\n",
            " [   5    6]]\n"
          ]
        }
      ]
    },
    {
      "cell_type": "markdown",
      "source": [
        "***Show the second result of Accuration using the calculation of accuracy variable***"
      ],
      "metadata": {
        "id": "5y5O6d6SoL4B"
      }
    },
    {
      "cell_type": "code",
      "source": [
        "print(\"================================\")\n",
        "accur = accuracy_score(Y_test, test_predictions)\n",
        "print(\"Accuration : {}\".format(accur))"
      ],
      "metadata": {
        "colab": {
          "base_uri": "https://localhost:8080/"
        },
        "id": "ujYi9lbAb13d",
        "outputId": "e20ad7b0-307a-4d8a-dccf-3dd01e19358e"
      },
      "execution_count": null,
      "outputs": [
        {
          "output_type": "stream",
          "name": "stdout",
          "text": [
            "================================\n",
            "Accuration : 0.9983079526226735\n"
          ]
        }
      ]
    },
    {
      "cell_type": "markdown",
      "source": [
        "***Show the second result of F1 Score using the calculation of f1 variable***"
      ],
      "metadata": {
        "id": "dsZybTXKoPpk"
      }
    },
    {
      "cell_type": "code",
      "source": [
        "print(\"================================\")\n",
        "f1 = f1_score(Y_test, test_predictions, average = 'macro')\n",
        "print(\"F1 Score : \", f1)"
      ],
      "metadata": {
        "colab": {
          "base_uri": "https://localhost:8080/"
        },
        "id": "thRKOVTZb3nE",
        "outputId": "e9a51855-4dd2-4eee-d575-eb99e4b5a50d"
      },
      "execution_count": null,
      "outputs": [
        {
          "output_type": "stream",
          "name": "stdout",
          "text": [
            "================================\n",
            "F1 Score :  0.815365488220855\n"
          ]
        }
      ]
    },
    {
      "cell_type": "markdown",
      "source": [
        "***Show the second result of Classification Report using Y_test and test_predictions variables***"
      ],
      "metadata": {
        "id": "31vGQvQ0oTLL"
      }
    },
    {
      "cell_type": "code",
      "source": [
        "print(\"================================\")\n",
        "print(\"Classification Report : \")\n",
        "print(classification_report(Y_test, test_predictions))"
      ],
      "metadata": {
        "colab": {
          "base_uri": "https://localhost:8080/"
        },
        "id": "hxLWPdtKb3xQ",
        "outputId": "0c2420aa-a24a-4214-b766-90a661ffd2b9"
      },
      "execution_count": null,
      "outputs": [
        {
          "output_type": "stream",
          "name": "stdout",
          "text": [
            "================================\n",
            "Classification Report : \n",
            "              precision    recall  f1-score   support\n",
            "\n",
            "           0       1.00      1.00      1.00      4126\n",
            "           1       0.75      0.55      0.63        11\n",
            "\n",
            "    accuracy                           1.00      4137\n",
            "   macro avg       0.87      0.77      0.82      4137\n",
            "weighted avg       1.00      1.00      1.00      4137\n",
            "\n"
          ]
        }
      ]
    },
    {
      "cell_type": "markdown",
      "source": [
        "***Conclusion***\n",
        "\n",
        "1. There are empty data in columns or rows in the dataset.\n",
        "\n",
        "2. There are outliers in the dataset due to the slight variation in the data.\n",
        "\n",
        "3. There is a correlation assessment by separating the dependent variable (X) and the independent variable (Y) to see the correlation between columns and the Pearson correlation because this correlation only involves 1 each for the dependent variable (X) and the independent variable (Y) where the results can show a better correlation so that the visualization with HeatMap becomes clearer.\n",
        "\n",
        "4. There is data normalization where the data distribution is not in the range 0 and by using the MinMaxScaler method to make the data range within the range of values ​​0 and 1 by reducing the minimum data then divided by the maximum data reduced by the minimum data so that the results are better because they are in the range of values ​​0 and 1.\n",
        "\n",
        "\n",
        "5. There are Predicted Class and Ground Truth which have the same output value.\n",
        "\n",
        "6. There is a Confusion Matrix which has a True Positive value of 28425, a False Negative of 13, a False Positive of 5, and a True Negative of 38 with an accuracy of 99%.\n",
        "\n",
        "7. There is an F1 Score that has a value of 90%.\n",
        "\n",
        "8. There is a Classification Report as a summary of the respective values ​​of Precision, Recall, F1-score, and Support from target data 0 and 1 as well as the average and also the average weight of each variable.\n",
        "\n",
        "9. There is an increase in value between the first model and the second model due to the use of the optimizer and the different number of layers.\n",
        "\n",
        "10. The results of this case study problem can still be improved in accuracy depending on how we conduct data training and manipulate hyperparameters and parameters."
      ],
      "metadata": {
        "id": "-U3rw-iioj7E"
      }
    },
    {
      "cell_type": "markdown",
      "source": [
        "***Reference***\n",
        "\n",
        "https://medium.com/@uulwake/kesalahan-scaling-data-di-machine-learning-menggunakan-scikit-learn-7b88f2fbaec\n",
        "\n",
        "https://medium.com/@uulwake/apa-pentingnya-scaling-data-di-machine-learning-91ba0caf1a43\n",
        "\n",
        "https://pacmann.io/blog/cara-mendeteksi-dan-menangani-outlier-saat-melakukan-data-analysis/\n",
        "\n",
        "https://scikit-learn.org/stable/modules/generated/sklearn.preprocessing.MinMaxScaler.html\n",
        "https://id.wikihow.com/Menentukan-IQR\n",
        "\n",
        "\n",
        "https://kotakode.com/pertanyaan/2416/Penentuan-Epoch-dan-Batch-size-pada-klasifikasi-CNN https://imam.digmi.id/post/memahami-epoch-batch-size-dan-iteration/\n",
        "\n",
        "https://pytorch.org/docs/stable/generated/torch.nn.BatchNorm2d.html\n",
        "\n",
        "https://machinelearningmastery.com/batch-normalization-for-training-of-deep-neural-networks/\n",
        "\n",
        "https://machinelearningmastery.com/rectified-linear-activation-function-for-deep-learning-neural-networks/\n",
        "\n",
        "https://www.tutorialspoint.com/how-to-apply-linear-transformation-to-the-input-data-in-pytorch\n",
        "\n",
        "https://jurnal.goretanpena.com/index.php/JSSR/article/download/789/738\n",
        "\n",
        "https://towardsdatascience.com/cross-entropy-loss-function-f38c4ec8643e"
      ],
      "metadata": {
        "id": "Hrw7TtfXrz1l"
      }
    }
  ]
}